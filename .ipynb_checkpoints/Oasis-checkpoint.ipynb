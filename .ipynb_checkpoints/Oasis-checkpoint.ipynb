{
 "metadata": {
  "name": "",
  "signature": "sha256:9d3f449f00f098445d83c9176699bc7b9a10159ea964452b9966b54357127ee9"
 },
 "nbformat": 3,
 "nbformat_minor": 0,
 "worksheets": [
  {
   "cells": [
    {
     "cell_type": "code",
     "collapsed": false,
     "input": [
      "from sklearn import metrics\n",
      "import matplotlib.pyplot as plt\n",
      "from scipy import io\n",
      "import bisect\n",
      "import numpy as np\n",
      "from  sklearn.preprocessing import normalize\n",
      "from scipy.spatial import distance\n",
      "import matplotlib.pyplot as plt\n",
      "import pandas as pd\n",
      "import numpy as np\n",
      "from sklearn.decomposition import PCA\n",
      "import numpy as np\n",
      "import random\n",
      "import oasis\n",
      "\n",
      "%matplotlib inline"
     ],
     "language": "python",
     "metadata": {},
     "outputs": [],
     "prompt_number": 1
    },
    {
     "cell_type": "code",
     "collapsed": false,
     "input": [
      "def readfile(file, test=True):\n",
      "    mat_file = io.loadmat(file)\n",
      "    X = mat_file['X']\n",
      "    if test:\n",
      "        Y = mat_file['pairs']\n",
      "    else:\n",
      "        Y = mat_file['label']\n",
      "    return X,Y\n",
      "\n",
      "\n",
      "def roc_report(pairs_label,dist,name,plot=True):\n",
      "    fpr, tpr, thresholds = metrics.roc_curve(pairs_label, -dist)\n",
      "    if plot:\n",
      "        plt.plot(fpr, tpr, label= name)\n",
      "        plt.plot([0, 1], [0, 1], 'k--')\n",
      "        plt.xlim([0.0, 1.0])\n",
      "        plt.ylim([0.0, 1.0])\n",
      "        plt.xlabel('False Positive Rate')\n",
      "        plt.ylabel('True Positive Rate')\n",
      "    score_facile = 1.0 - tpr[bisect.bisect(fpr, 0.001) - 1]\n",
      "    idx = (np.abs(fpr + tpr - 1.)).argmin()\n",
      "    score_difficile = (fpr[idx]+(1-tpr[idx]))/2\n",
      "    return score_facile,score_difficile\n",
      "\n",
      "def generate_pairs(label, n_pairs, positive_ratio, random_state=42):\n",
      "    \"\"\"Generate a set of pair indices\n",
      "    \n",
      "    Parameters\n",
      "    ----------\n",
      "    label : array, shape (n_samples, 1)\n",
      "        Label vector\n",
      "    n_pairs : int\n",
      "        Number of pairs to generate\n",
      "    positive_ratio : float\n",
      "        Positive to negative ratio for pairs\n",
      "    random_state : int\n",
      "        Random seed for reproducibility\n",
      "        \n",
      "    Output\n",
      "    ------\n",
      "    pairs_idx : array, shape (n_pairs, 2)\n",
      "        The indices for the set of pairs\n",
      "    label_pairs : array, shape (n_pairs, 1)\n",
      "        The pair labels (+1 or -1)\n",
      "    \"\"\"\n",
      "    rng = np.random.RandomState(random_state)\n",
      "    n_samples = label.shape[0]\n",
      "    pairs_idx = np.zeros((n_pairs, 2), dtype=int)\n",
      "    pairs_idx[:, 0] = rng.randint(0, n_samples, n_pairs)\n",
      "    rand_vec = rng.rand(n_pairs)\n",
      "    for i in range(n_pairs):\n",
      "        if rand_vec[i] <= positive_ratio:\n",
      "            idx_same = np.where(label == label[pairs_idx[i, 0]])[0]\n",
      "            idx2 = rng.randint(idx_same.shape[0])\n",
      "            pairs_idx[i, 1] = idx_same[idx2]\n",
      "        else:\n",
      "            idx_diff = np.where(label != label[pairs_idx[i, 0]])[0]\n",
      "            idx2 = rng.randint(idx_diff.shape[0])\n",
      "            pairs_idx[i, 1] = idx_diff[idx2]\n",
      "    pairs_label = 2.0 * (label[pairs_idx[:, 0]] == label[pairs_idx[:, 1]]) - 1.0\n",
      "    return pairs_idx, pairs_label"
     ],
     "language": "python",
     "metadata": {},
     "outputs": [],
     "prompt_number": 2
    },
    {
     "cell_type": "code",
     "collapsed": false,
     "input": [
      "def distances_pairs(X,pairs,dist_func, batch_size=10000):\n",
      "    n_pairs = pairs.shape[0]\n",
      "    dist = np.ones((n_pairs,), dtype=np.dtype(\"float32\"))\n",
      "    for a in range(0, n_pairs, batch_size):\n",
      "        b = min(a + batch_size, n_pairs)\n",
      "        dist[a:b] =  [dist_func(X[pairs[i,0],:],X[pairs[i,1],:]) for i in range(a,b)]\n",
      "    return dist\n",
      "    "
     ],
     "language": "python",
     "metadata": {},
     "outputs": [],
     "prompt_number": 126
    },
    {
     "cell_type": "code",
     "collapsed": false,
     "input": [
      "X_train_facile, Y_train_facile = readfile('/run/shm/MLA_AWS/data/data_train_facile',test=False)\n",
      "X_test_facile, Y_test_facile = readfile('/run/shm/MLA_AWS/data/data_test_facile',test=True)\n",
      "\n",
      "X_train_facile = X_train_facile\n",
      "Y_train_facile = Y_train_facile.flatten()\n",
      "\n",
      "X_test_facile = X_test_facile\n",
      "Y_test_facile = Y_test_facile#.flatten()"
     ],
     "language": "python",
     "metadata": {},
     "outputs": [],
     "prompt_number": 130
    },
    {
     "cell_type": "code",
     "collapsed": false,
     "input": [
      "X_train_difficile, Y_train_difficile = readfile('/run/shm/MLA_AWS/data/data_train_difficile',test=False)\n",
      "X_test_difficile, Y_test_difficile = readfile('/run/shm/MLA_AWS/data/data_test_difficile',test=True)\n",
      "\n",
      "X_train_difficile = X_train_difficile\n",
      "Y_train_difficile = Y_train_difficile.flatten()\n",
      "\n",
      "X_test_difficile = X_test_difficile\n",
      "Y_test_difficile = Y_test_difficile#.flatten()"
     ],
     "language": "python",
     "metadata": {},
     "outputs": [],
     "prompt_number": 3
    },
    {
     "cell_type": "code",
     "collapsed": false,
     "input": [
      "%ls /run/shm/MLA_AWS/data/"
     ],
     "language": "python",
     "metadata": {},
     "outputs": [
      {
       "output_type": "stream",
       "stream": "stdout",
       "text": [
        "\u001b[0m\u001b[01;32mdata_test_difficile.mat\u001b[0m*  \u001b[01;32mdata_train_difficile.mat\u001b[0m*\r\n",
        "\u001b[01;32mdata_test_facile.mat\u001b[0m*     \u001b[01;32mdata_train_facile.mat\u001b[0m*\r\n"
       ]
      }
     ],
     "prompt_number": 112
    },
    {
     "cell_type": "code",
     "collapsed": false,
     "input": [
      "def Oasis_Process(Oasis_model,X_train,Y_train,X_test,Y_test,name):\n",
      "    Oasis_model.fit(X_train,Y_train)\n",
      "    W = clf_Oasis._weights.view()\n",
      "    W.shape = (np.int(np.sqrt(W.shape[0])), np.int(np.sqrt(W.shape[0])))\n",
      "    \n",
      "    y = []\n",
      "    print Y_test\n",
      "    for (y1,y2) in Y_test:\n",
      "        y.append(np.dot(X_test[y1],np.dot(W,X_test[y2])))\n",
      "    np.savetxt(name+'.txt', y, fmt='%.5f')"
     ],
     "language": "python",
     "metadata": {},
     "outputs": [],
     "prompt_number": 6
    },
    {
     "cell_type": "code",
     "collapsed": false,
     "input": [
      "clf_Oasis_first = oasis.Oasis(aggress=0.1, random_seed=42, do_sym=True, do_psd=True, n_iter=10000000, save_every=50000, sym_every=100000, psd_every=500000, save_path=\"~/clf_oasis1\")\n",
      "clf_Oasis_second = oasis.Oasis(aggress=0.1, random_seed=42, do_sym=True, do_psd=True, n_iter=10000000, save_every=50000, sym_every= 10000, psd_every=50000, save_path=\"~/clf_oasis2\")\n",
      "clf_Oasis_third = oasis.Oasis(aggress=0.1, random_seed=42, do_sym=True, do_psd=True, n_iter=10000000, save_every=50000, sym_every= 100000, psd_every=10000, save_path=\"~/clf_oasis3\")\n",
      "clf_Oasis_fourth = oasis.Oasis(aggress=0.1, random_seed=42, do_sym=True, do_psd=False, n_iter=10000000, save_every=50000, sym_every= 100000 , psd_every=500000, save_path=\"~/clf_oasis4\")\n",
      "clf_Oasis_fifth = oasis.Oasis(aggress=0.1, random_seed=42, do_sym=False, do_psd=True, n_iter=10000000, save_every=50000, sym_every= 100000, psd_every=500000, save_path=\"~/clf_oasis5\")\n",
      "clf_Oasis_sixth = oasis.Oasis(aggress=0.1, random_seed=42, do_sym=False, do_psd=False, n_iter=10000000, save_every=50000, sym_every= 100000, psd_every=50000, save_path=\"~/clf_oasis6\")"
     ],
     "language": "python",
     "metadata": {},
     "outputs": [],
     "prompt_number": 7
    },
    {
     "cell_type": "code",
     "collapsed": false,
     "input": [
      "%cd ~/metric_learning/metric-learning-Challenge/\n",
      "\n",
      "%ls"
     ],
     "language": "python",
     "metadata": {},
     "outputs": [
      {
       "output_type": "stream",
       "stream": "stdout",
       "text": [
        "/home/ubuntu/metric_learning/metric-learning-Challenge\n",
        "Importance de la PCA (mode difficile).png  main2-Hard.ipynb\r\n",
        "Importance de la PCA (mode facile).png     main2.ipynb\r\n",
        "Importance du nombre de features.png       main_metrics_learning.ipynb\r\n",
        "Oasis.ipynb                                \u001b[0m\u001b[01;34mmetric_learn\u001b[0m/\r\n",
        "Oasis_fist_facile.txt                      metric_learn.ipynbI5SBMO\r\n",
        "README.md                                  metric_learn.ipynbUMEYQU\r\n",
        "dist_facile_ITML.txt                       metric_learn.ipynbbhBOK3\r\n",
        "dist_facile_LSML.txt                       metric_learn.ipynbev3k20\r\n",
        "dist_facile_SDML.txt                       metric_learn.ipynburePQD\r\n",
        "dist_hard_ITML.txt                         oasis.py\r\n",
        "dist_hard_LSML.txt                         oasis.pyc\r\n",
        "dist_hard_SDML.txt                         soumission_hard_bray_curtis.txt\r\n",
        "first_test_oasis.txt                       utils.ipynb\r\n",
        "first_test_oasis_facile.txt                utils.py\r\n",
        "main.ipynb                                 \u001b[01;34m~\u001b[0m/\r\n",
        "main.py\r\n"
       ]
      }
     ],
     "prompt_number": 115
    },
    {
     "cell_type": "code",
     "collapsed": false,
     "input": [
      "Oasis_Process(clf_Oasis_first,X_train_facile,Y_train_facile,X_test_facile,Y_test_facile,\"Oasis_fist_facile_n\")\n",
      "print \"Done\"\n",
      "Oasis_Process(clf_Oasis_second,X_train_facile,Y_train_facile,X_test_facile,Y_test_facile,\"Oasis_second_facile_n\")\n",
      "print \"Done\"\n",
      "Oasis_Process(clf_Oasis_third,X_train_facile,Y_train_facile,X_test_facile,Y_test_facile,\"Oasis_third_facile_n\")\n",
      "print \"Done\"\n",
      "Oasis_Process(clf_Oasis_fourth,X_train_facile,Y_train_facile,X_test_facile,Y_test_facile,\"Oasis_fourth_facile_n\")\n",
      "print \"Done\"\n",
      "Oasis_Process(clf_Oasis_fifth,X_train_facile,Y_train_facile,X_test_facile,Y_test_facile,\"Oasis_fifth_facile_n\")\n",
      "print \"Done\"\n",
      "Oasis_Process(clf_Oasis_sixth,X_train_facile,Y_train_facile,X_test_facile,Y_test_facile,\"Oasis_sixth_facile_n\")"
     ],
     "language": "python",
     "metadata": {},
     "outputs": []
    },
    {
     "cell_type": "code",
     "collapsed": false,
     "input": [
      "Oasis_Process(clf_Oasis_first,X_train_difficile,Y_train_difficile,X_test_difficile,Y_test_difficile,\"Oasis_fist_difficile_n\")\n",
      "print \"Done2\"\n",
      "Oasis_Process(clf_Oasis_second,X_train_difficile,Y_train_difficile,X_test_difficile,Y_test_difficile,\"Oasis_second_difficile_n\")\n",
      "print \"Done2\"\n",
      "Oasis_Process(clf_Oasis_third,X_train_difficile,Y_train_difficile,X_test_difficile,Y_test_difficile,\"Oasis_third_difficile_n\")\n",
      "print \"Done2\"\n",
      "Oasis_Process(clf_Oasis_fourth,X_train_difficile,Y_train_difficile,X_test_difficile,Y_test_difficile,\"Oasis_fourth_difficile_n\")\n",
      "print \"Done2\"\n",
      "Oasis_Process(clf_Oasis_fifth,X_train_difficile,Y_train_difficile,X_test_difficile,Y_test_difficile,\"Oasis_fifth_difficile_n\")\n",
      "print \"Done2\"\n",
      "Oasis_Process(clf_Oasis_sixth,X_train_difficile,Y_train_difficile,X_test_difficile,Y_test_difficile,\"Oasis_sixth_difficile_n\")"
     ],
     "language": "python",
     "metadata": {},
     "outputs": [
      {
       "ename": "NameError",
       "evalue": "global name 'clf_Oasis' is not defined",
       "output_type": "pyerr",
       "traceback": [
        "\u001b[1;31m---------------------------------------------------------------------------\u001b[0m\n\u001b[1;31mNameError\u001b[0m                                 Traceback (most recent call last)",
        "\u001b[1;32m<ipython-input-8-e41e89dcf452>\u001b[0m in \u001b[0;36m<module>\u001b[1;34m()\u001b[0m\n\u001b[1;32m----> 1\u001b[1;33m \u001b[0mOasis_Process\u001b[0m\u001b[1;33m(\u001b[0m\u001b[0mclf_Oasis_first\u001b[0m\u001b[1;33m,\u001b[0m\u001b[0mX_train_difficile\u001b[0m\u001b[1;33m,\u001b[0m\u001b[0mY_train_difficile\u001b[0m\u001b[1;33m,\u001b[0m\u001b[0mX_test_difficile\u001b[0m\u001b[1;33m,\u001b[0m\u001b[0mY_test_difficile\u001b[0m\u001b[1;33m,\u001b[0m\u001b[1;34m\"Oasis_fist_difficile_n\"\u001b[0m\u001b[1;33m)\u001b[0m\u001b[1;33m\u001b[0m\u001b[0m\n\u001b[0m\u001b[0;32m      2\u001b[0m \u001b[1;32mprint\u001b[0m \u001b[1;34m\"Done2\"\u001b[0m\u001b[1;33m\u001b[0m\u001b[0m\n\u001b[0;32m      3\u001b[0m \u001b[0mOasis_Process\u001b[0m\u001b[1;33m(\u001b[0m\u001b[0mclf_Oasis_second\u001b[0m\u001b[1;33m,\u001b[0m\u001b[0mX_train_difficile\u001b[0m\u001b[1;33m,\u001b[0m\u001b[0mY_train_difficile\u001b[0m\u001b[1;33m,\u001b[0m\u001b[0mX_test_difficile\u001b[0m\u001b[1;33m,\u001b[0m\u001b[0mY_test_difficile\u001b[0m\u001b[1;33m,\u001b[0m\u001b[1;34m\"Oasis_second_difficile_n\"\u001b[0m\u001b[1;33m)\u001b[0m\u001b[1;33m\u001b[0m\u001b[0m\n\u001b[0;32m      4\u001b[0m \u001b[1;32mprint\u001b[0m \u001b[1;34m\"Done2\"\u001b[0m\u001b[1;33m\u001b[0m\u001b[0m\n\u001b[0;32m      5\u001b[0m \u001b[0mOasis_Process\u001b[0m\u001b[1;33m(\u001b[0m\u001b[0mclf_Oasis_third\u001b[0m\u001b[1;33m,\u001b[0m\u001b[0mX_train_difficile\u001b[0m\u001b[1;33m,\u001b[0m\u001b[0mY_train_difficile\u001b[0m\u001b[1;33m,\u001b[0m\u001b[0mX_test_difficile\u001b[0m\u001b[1;33m,\u001b[0m\u001b[0mY_test_difficile\u001b[0m\u001b[1;33m,\u001b[0m\u001b[1;34m\"Oasis_third_difficile_n\"\u001b[0m\u001b[1;33m)\u001b[0m\u001b[1;33m\u001b[0m\u001b[0m\n",
        "\u001b[1;32m<ipython-input-6-cce04a4ea6b7>\u001b[0m in \u001b[0;36mOasis_Process\u001b[1;34m(Oasis_model, X_train, Y_train, X_test, Y_test, name)\u001b[0m\n\u001b[0;32m      1\u001b[0m \u001b[1;32mdef\u001b[0m \u001b[0mOasis_Process\u001b[0m\u001b[1;33m(\u001b[0m\u001b[0mOasis_model\u001b[0m\u001b[1;33m,\u001b[0m\u001b[0mX_train\u001b[0m\u001b[1;33m,\u001b[0m\u001b[0mY_train\u001b[0m\u001b[1;33m,\u001b[0m\u001b[0mX_test\u001b[0m\u001b[1;33m,\u001b[0m\u001b[0mY_test\u001b[0m\u001b[1;33m,\u001b[0m\u001b[0mname\u001b[0m\u001b[1;33m)\u001b[0m\u001b[1;33m:\u001b[0m\u001b[1;33m\u001b[0m\u001b[0m\n\u001b[1;32m----> 2\u001b[1;33m     \u001b[0mclf_Oasis\u001b[0m\u001b[1;33m.\u001b[0m\u001b[0mfit\u001b[0m\u001b[1;33m(\u001b[0m\u001b[0mX_train\u001b[0m\u001b[1;33m,\u001b[0m\u001b[0mY_train\u001b[0m\u001b[1;33m)\u001b[0m\u001b[1;33m\u001b[0m\u001b[0m\n\u001b[0m\u001b[0;32m      3\u001b[0m     \u001b[0mW\u001b[0m \u001b[1;33m=\u001b[0m \u001b[0mclf_Oasis\u001b[0m\u001b[1;33m.\u001b[0m\u001b[0m_weights\u001b[0m\u001b[1;33m.\u001b[0m\u001b[0mview\u001b[0m\u001b[1;33m(\u001b[0m\u001b[1;33m)\u001b[0m\u001b[1;33m\u001b[0m\u001b[0m\n\u001b[0;32m      4\u001b[0m     \u001b[0mW\u001b[0m\u001b[1;33m.\u001b[0m\u001b[0mshape\u001b[0m \u001b[1;33m=\u001b[0m \u001b[1;33m(\u001b[0m\u001b[0mnp\u001b[0m\u001b[1;33m.\u001b[0m\u001b[0mint\u001b[0m\u001b[1;33m(\u001b[0m\u001b[0mnp\u001b[0m\u001b[1;33m.\u001b[0m\u001b[0msqrt\u001b[0m\u001b[1;33m(\u001b[0m\u001b[0mW\u001b[0m\u001b[1;33m.\u001b[0m\u001b[0mshape\u001b[0m\u001b[1;33m[\u001b[0m\u001b[1;36m0\u001b[0m\u001b[1;33m]\u001b[0m\u001b[1;33m)\u001b[0m\u001b[1;33m)\u001b[0m\u001b[1;33m,\u001b[0m \u001b[0mnp\u001b[0m\u001b[1;33m.\u001b[0m\u001b[0mint\u001b[0m\u001b[1;33m(\u001b[0m\u001b[0mnp\u001b[0m\u001b[1;33m.\u001b[0m\u001b[0msqrt\u001b[0m\u001b[1;33m(\u001b[0m\u001b[0mW\u001b[0m\u001b[1;33m.\u001b[0m\u001b[0mshape\u001b[0m\u001b[1;33m[\u001b[0m\u001b[1;36m0\u001b[0m\u001b[1;33m]\u001b[0m\u001b[1;33m)\u001b[0m\u001b[1;33m)\u001b[0m\u001b[1;33m)\u001b[0m\u001b[1;33m\u001b[0m\u001b[0m\n\u001b[0;32m      5\u001b[0m \u001b[1;33m\u001b[0m\u001b[0m\n",
        "\u001b[1;31mNameError\u001b[0m: global name 'clf_Oasis' is not defined"
       ]
      }
     ],
     "prompt_number": 8
    },
    {
     "cell_type": "code",
     "collapsed": false,
     "input": [
      "%ls"
     ],
     "language": "python",
     "metadata": {},
     "outputs": []
    }
   ],
   "metadata": {}
  }
 ]
}