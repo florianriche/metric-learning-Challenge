{
 "metadata": {
  "name": "",
  "signature": "sha256:bb83f638a581c58399748fe2dff16d0f0fcbf509ade051a0218f3e0786b60662"
 },
 "nbformat": 3,
 "nbformat_minor": 0,
 "worksheets": [
  {
   "cells": [
    {
     "cell_type": "code",
     "collapsed": false,
     "input": [
      "from sklearn import metrics\n",
      "import matplotlib.pyplot as plt\n",
      "from scipy import io\n",
      "import bisect\n",
      "import numpy as np\n",
      "from  sklearn.preprocessing import normalize\n",
      "from scipy.spatial import distance\n",
      "import matplotlib.pyplot as plt\n",
      "import pandas as pd\n",
      "import numpy as np\n",
      "from sklearn.decomposition import PCA\n",
      "import numpy as np\n",
      "import random\n",
      "import oasis\n",
      "\n",
      "%matplotlib inline"
     ],
     "language": "python",
     "metadata": {},
     "outputs": [],
     "prompt_number": 8
    },
    {
     "cell_type": "code",
     "collapsed": false,
     "input": [
      "%ls"
     ],
     "language": "python",
     "metadata": {},
     "outputs": [
      {
       "output_type": "stream",
       "stream": "stdout",
       "text": [
        "Importance de la PCA (mode difficile).png  dist_hard_SDML.txt\r\n",
        "Importance de la PCA (mode facile).png     first_test_oasis.txt\r\n",
        "Importance du nombre de features.png       first_test_oasis_facile.txt\r\n",
        "Oasis.ipynb                                main.ipynb\r\n",
        "Oasis_fifth_difficile.txt                  main.py\r\n",
        "Oasis_fifth_facile.txt                     main2-Hard.ipynb\r\n",
        "Oasis_fist_difficile.txt                   main2.ipynb\r\n",
        "Oasis_fist_facile.txt                      main_metrics_learning.ipynb\r\n",
        "Oasis_fourth_difficile.txt                 \u001b[0m\u001b[01;34mmetric_learn\u001b[0m/\r\n",
        "Oasis_fourth_facile.txt                    \u001b[01;34mmetric_learn.egg-info\u001b[0m/\r\n",
        "Oasis_second_difficile.txt                 metric_learn.ipynb\r\n",
        "Oasis_second_facile.txt                    metric_learn.ipynbI5SBMO\r\n",
        "Oasis_sixth_facile.txt                     metric_learn.ipynbUMEYQU\r\n",
        "Oasis_third_difficile.txt                  metric_learn.ipynbbhBOK3\r\n",
        "Oasis_third_facile.txt                     metric_learn.ipynbev3k20\r\n",
        "README.md                                  metric_learn.ipynburePQD\r\n",
        "Untitled0.ipynb                            metric_learn.py\r\n",
        "\u001b[01;34mbuild\u001b[0m/                                     metric_learn.pyc\r\n",
        "\u001b[01;34mdist\u001b[0m/                                      oasis.py\r\n",
        "dist_facile_ITML.txt                       oasis.pyc\r\n",
        "dist_facile_LSML.txt                       soumission_hard_bray_curtis.txt\r\n",
        "dist_facile_SDML.txt                       utils.ipynb\r\n",
        "dist_hard_ITML.txt                         utils.py\r\n",
        "dist_hard_LSML.txt                         \u001b[01;34m~\u001b[0m/\r\n"
       ]
      }
     ],
     "prompt_number": 9
    },
    {
     "cell_type": "code",
     "collapsed": false,
     "input": [
      "def readfile(file, test=True):\n",
      "    mat_file = io.loadmat(file)\n",
      "    X = mat_file['X']\n",
      "    if test:\n",
      "        Y = mat_file['pairs']\n",
      "    else:\n",
      "        Y = mat_file['label']\n",
      "    return X,Y\n",
      "\n",
      "\n",
      "def roc_report(pairs_label,dist,name,plot=True):\n",
      "    fpr, tpr, thresholds = metrics.roc_curve(pairs_label, -dist)\n",
      "    if plot:\n",
      "        plt.plot(fpr, tpr, label= name)\n",
      "        plt.plot([0, 1], [0, 1], 'k--')\n",
      "        plt.xlim([0.0, 1.0])\n",
      "        plt.ylim([0.0, 1.0])\n",
      "        plt.xlabel('False Positive Rate')\n",
      "        plt.ylabel('True Positive Rate')\n",
      "    score_facile = 1.0 - tpr[bisect.bisect(fpr, 0.001) - 1]\n",
      "    idx = (np.abs(fpr + tpr - 1.)).argmin()\n",
      "    score_difficile = (fpr[idx]+(1-tpr[idx]))/2\n",
      "    return score_facile,score_difficile\n",
      "\n",
      "def generate_pairs(label, n_pairs, positive_ratio, random_state=42):\n",
      "    \"\"\"Generate a set of pair indices\n",
      "    \n",
      "    Parameters\n",
      "    ----------\n",
      "    label : array, shape (n_samples, 1)\n",
      "        Label vector\n",
      "    n_pairs : int\n",
      "        Number of pairs to generate\n",
      "    positive_ratio : float\n",
      "        Positive to negative ratio for pairs\n",
      "    random_state : int\n",
      "        Random seed for reproducibility\n",
      "        \n",
      "    Output\n",
      "    ------\n",
      "    pairs_idx : array, shape (n_pairs, 2)\n",
      "        The indices for the set of pairs\n",
      "    label_pairs : array, shape (n_pairs, 1)\n",
      "        The pair labels (+1 or -1)\n",
      "    \"\"\"\n",
      "    rng = np.random.RandomState(random_state)\n",
      "    n_samples = label.shape[0]\n",
      "    pairs_idx = np.zeros((n_pairs, 2), dtype=int)\n",
      "    pairs_idx[:, 0] = rng.randint(0, n_samples, n_pairs)\n",
      "    rand_vec = rng.rand(n_pairs)\n",
      "    for i in range(n_pairs):\n",
      "        if rand_vec[i] <= positive_ratio:\n",
      "            idx_same = np.where(label == label[pairs_idx[i, 0]])[0]\n",
      "            idx2 = rng.randint(idx_same.shape[0])\n",
      "            pairs_idx[i, 1] = idx_same[idx2]\n",
      "        else:\n",
      "            idx_diff = np.where(label != label[pairs_idx[i, 0]])[0]\n",
      "            idx2 = rng.randint(idx_diff.shape[0])\n",
      "            pairs_idx[i, 1] = idx_diff[idx2]\n",
      "    pairs_label = 2.0 * (label[pairs_idx[:, 0]] == label[pairs_idx[:, 1]]) - 1.0\n",
      "    return pairs_idx, pairs_label"
     ],
     "language": "python",
     "metadata": {},
     "outputs": [],
     "prompt_number": 10
    },
    {
     "cell_type": "code",
     "collapsed": false,
     "input": [
      "def distances_pairs(X,pairs,dist_func, batch_size=10000):\n",
      "    n_pairs = pairs.shape[0]\n",
      "    dist = np.ones((n_pairs,), dtype=np.dtype(\"float32\"))\n",
      "    for a in range(0, n_pairs, batch_size):\n",
      "        b = min(a + batch_size, n_pairs)\n",
      "        dist[a:b] =  [dist_func(X[pairs[i,0],:],X[pairs[i,1],:]) for i in range(a,b)]\n",
      "    return dist\n",
      "    "
     ],
     "language": "python",
     "metadata": {},
     "outputs": [],
     "prompt_number": 11
    },
    {
     "cell_type": "code",
     "collapsed": false,
     "input": [
      "X_train_facile, Y_train_facile = readfile('/run/shm/MLA_AWS/data/data_train_facile',test=False)\n",
      "X_test_facile, Y_test_facile = readfile('/run/shm/MLA_AWS/data/data_test_facile',test=True)\n",
      "\n",
      "X_train_facile = X_train_facile\n",
      "Y_train_facile = Y_train_facile.flatten()\n",
      "\n",
      "X_test_facile = X_test_facile\n",
      "Y_test_facile = Y_test_facile#.flatten()"
     ],
     "language": "python",
     "metadata": {},
     "outputs": [],
     "prompt_number": 130
    },
    {
     "cell_type": "code",
     "collapsed": false,
     "input": [
      "X_train_difficile, Y_train_difficile = readfile('/dev/MLA_AWS/data/data_train_difficile',test=False)\n",
      "X_test_difficile, Y_test_difficile = readfile('/dev/MLA_AWS/data/data_test_difficile',test=True)\n",
      "\n",
      "X_train_difficile = X_train_difficile\n",
      "Y_train_difficile = Y_train_difficile.flatten()\n",
      "\n",
      "X_test_difficile = X_test_difficile\n",
      "Y_test_difficile = Y_test_difficile#.flatten()"
     ],
     "language": "python",
     "metadata": {},
     "outputs": [],
     "prompt_number": 12
    },
    {
     "cell_type": "code",
     "collapsed": false,
     "input": [
      "%ls /dev/MLA_AWS"
     ],
     "language": "python",
     "metadata": {},
     "outputs": [
      {
       "output_type": "stream",
       "stream": "stdout",
       "text": [
        "ls: cannot access /dev/MLA_AWS: No such file or directory\r\n"
       ]
      }
     ],
     "prompt_number": 7
    },
    {
     "cell_type": "code",
     "collapsed": false,
     "input": [
      "def Oasis_Process(Oasis_model,X_train,Y_train,X_test,Y_test,name):\n",
      "    Oasis_model.fit(X_train,Y_train)\n",
      "    W = Oasis_model._weights.view()\n",
      "    W.shape = (np.int(np.sqrt(W.shape[0])), np.int(np.sqrt(W.shape[0])))\n",
      "    \n",
      "    y = []\n",
      "    print Y_test\n",
      "    for (y1,y2) in Y_test:\n",
      "        y.append(np.dot(X_test[y1],np.dot(W,X_test[y2])))\n",
      "    np.savetxt(name+'.txt', y, fmt='%.5f')"
     ],
     "language": "python",
     "metadata": {},
     "outputs": [],
     "prompt_number": 13
    },
    {
     "cell_type": "code",
     "collapsed": false,
     "input": [
      "'''clf_Oasis_first = oasis.Oasis(aggress=0.1, random_seed=42, do_sym=True, do_psd=True, n_iter=10000, save_every=50000, sym_every=100000, psd_every=500000, save_path=\"~/clf_oasis1\")\n",
      "clf_Oasis_second = oasis.Oasis(aggress=0.1, random_seed=42, do_sym=True, do_psd=True, n_iter=100000, save_every=50000, sym_every= 10000, psd_every=50000, save_path=\"~/clf_oasis2\")\n",
      "clf_Oasis_third = oasis.Oasis(aggress=0.1, random_seed=42, do_sym=True, do_psd=True, n_iter=1000000, save_every=50000, sym_every= 100000, psd_every=10000, save_path=\"~/clf_oasis3\")\n",
      "clf_Oasis_fourth = oasis.Oasis(aggress=0.1, random_seed=42, do_sym=True, do_psd=False, n_iter=10000000, save_every=50000, sym_every= 100000 , psd_every=500000, save_path=\"~/clf_oasis4\")\n",
      "clf_Oasis_fifth = oasis.Oasis(aggress=0.1, random_seed=42, do_sym=False, do_psd=True, n_iter=10000000, save_every=50000, sym_every= 100000, psd_every=500000, save_path=\"~/clf_oasis5\")\n",
      "clf_Oasis_sixth = oasis.Oasis(aggress=0.1, random_seed=42, do_sym=False, do_psd=False, n_iter=10000000, save_every=50000, sym_every= 100000, psd_every=50000, save_path=\"~/clf_oasis6\")'''\n",
      "clf_Oasis_first = oasis.Oasis(aggress=0.1, random_seed=42, do_sym=True, do_psd=True, n_iter=10000, save_every=50000, sym_every=100000, psd_every=500000, save_path=None)\n",
      "clf_Oasis_second = oasis.Oasis(aggress=0.1, random_seed=42, do_sym=True, do_psd=True, n_iter=100000, save_every=50000, sym_every= 10000, psd_every=50000, save_path=None)\n",
      "clf_Oasis_third = oasis.Oasis(aggress=0.1, random_seed=42, do_sym=True, do_psd=True, n_iter=1000000, save_every=50000, sym_every= 100000, psd_every=10000, save_path=None)\n",
      "clf_Oasis_fourth = oasis.Oasis(aggress=0.1, random_seed=42, do_sym=True, do_psd=False, n_iter=10000000, save_every=50000, sym_every= 100000 , psd_every=500000, save_path=None)\n",
      "clf_Oasis_fifth = oasis.Oasis(aggress=0.1, random_seed=42, do_sym=False, do_psd=True, n_iter=10000000, save_every=50000, sym_every= 100000, psd_every=500000, save_path=None)\n",
      "clf_Oasis_sixth = oasis.Oasis(aggress=0.1, random_seed=42, do_sym=False, do_psd=False, n_iter=10000000, save_every=50000, sym_every= 100000, psd_every=50000, save_path=None)"
     ],
     "language": "python",
     "metadata": {},
     "outputs": [],
     "prompt_number": 18
    },
    {
     "cell_type": "code",
     "collapsed": false,
     "input": [
      "%cd ~/metric_learning/metric-learning-Challenge/\n",
      "\n",
      "%ls"
     ],
     "language": "python",
     "metadata": {},
     "outputs": []
    },
    {
     "cell_type": "code",
     "collapsed": false,
     "input": [
      "Oasis_Process(clf_Oasis_first,X_train_facile,Y_train_facile,X_test_facile,Y_test_facile,\"Oasis_fist_facile_n\")\n",
      "print \"Done\"\n",
      "Oasis_Process(clf_Oasis_second,X_train_facile,Y_train_facile,X_test_facile,Y_test_facile,\"Oasis_second_facile_n\")\n",
      "print \"Done\"\n",
      "Oasis_Process(clf_Oasis_third,X_train_facile,Y_train_facile,X_test_facile,Y_test_facile,\"Oasis_third_facile_n\")\n",
      "print \"Done\"\n",
      "Oasis_Process(clf_Oasis_fourth,X_train_facile,Y_train_facile,X_test_facile,Y_test_facile,\"Oasis_fourth_facile_n\")\n",
      "print \"Done\"\n",
      "Oasis_Process(clf_Oasis_fifth,X_train_facile,Y_train_facile,X_test_facile,Y_test_facile,\"Oasis_fifth_facile_n\")\n",
      "print \"Done\"\n",
      "Oasis_Process(clf_Oasis_sixth,X_train_facile,Y_train_facile,X_test_facile,Y_test_facile,\"Oasis_sixth_facile_n\")"
     ],
     "language": "python",
     "metadata": {},
     "outputs": []
    },
    {
     "cell_type": "code",
     "collapsed": false,
     "input": [
      "Oasis_Process(clf_Oasis_first,X_train_difficile,Y_train_difficile,X_test_difficile,Y_test_difficile,\"Oasis_fist_difficile_n\")\n",
      "print \"Done2\"\n",
      "Oasis_Process(clf_Oasis_second,X_train_difficile,Y_train_difficile,X_test_difficile,Y_test_difficile,\"Oasis_second_difficile_n\")\n",
      "print \"Done2\"\n",
      "Oasis_Process(clf_Oasis_third,X_train_difficile,Y_train_difficile,X_test_difficile,Y_test_difficile,\"Oasis_third_difficile_n\")\n",
      "print \"Done2\"\n",
      "Oasis_Process(clf_Oasis_fourth,X_train_difficile,Y_train_difficile,X_test_difficile,Y_test_difficile,\"Oasis_fourth_difficile_n\")\n",
      "print \"Done2\"\n",
      "Oasis_Process(clf_Oasis_fifth,X_train_difficile,Y_train_difficile,X_test_difficile,Y_test_difficile,\"Oasis_fifth_difficile_n\")\n",
      "print \"Done2\"\n",
      "Oasis_Process(clf_Oasis_sixth,X_train_difficile,Y_train_difficile,X_test_difficile,Y_test_difficile,\"Oasis_sixth_difficile_n\")"
     ],
     "language": "python",
     "metadata": {},
     "outputs": [
      {
       "output_type": "stream",
       "stream": "stdout",
       "text": [
        "[[18318 10086]\n",
        " [22657 29023]\n",
        " [24261 28500]\n",
        " ..., \n",
        " [11512 10079]\n",
        " [26740 12541]\n",
        " [12259  4745]]\n",
        "Done2"
       ]
      },
      {
       "output_type": "stream",
       "stream": "stdout",
       "text": [
        "\n"
       ]
      },
      {
       "ename": "IOError",
       "evalue": "[Errno 28] No space left on device",
       "output_type": "pyerr",
       "traceback": [
        "\u001b[1;31m---------------------------------------------------------------------------\u001b[0m\n\u001b[1;31mIOError\u001b[0m                                   Traceback (most recent call last)",
        "\u001b[1;32m<ipython-input-19-e41e89dcf452>\u001b[0m in \u001b[0;36m<module>\u001b[1;34m()\u001b[0m\n\u001b[0;32m      1\u001b[0m \u001b[0mOasis_Process\u001b[0m\u001b[1;33m(\u001b[0m\u001b[0mclf_Oasis_first\u001b[0m\u001b[1;33m,\u001b[0m\u001b[0mX_train_difficile\u001b[0m\u001b[1;33m,\u001b[0m\u001b[0mY_train_difficile\u001b[0m\u001b[1;33m,\u001b[0m\u001b[0mX_test_difficile\u001b[0m\u001b[1;33m,\u001b[0m\u001b[0mY_test_difficile\u001b[0m\u001b[1;33m,\u001b[0m\u001b[1;34m\"Oasis_fist_difficile_n\"\u001b[0m\u001b[1;33m)\u001b[0m\u001b[1;33m\u001b[0m\u001b[0m\n\u001b[0;32m      2\u001b[0m \u001b[1;32mprint\u001b[0m \u001b[1;34m\"Done2\"\u001b[0m\u001b[1;33m\u001b[0m\u001b[0m\n\u001b[1;32m----> 3\u001b[1;33m \u001b[0mOasis_Process\u001b[0m\u001b[1;33m(\u001b[0m\u001b[0mclf_Oasis_second\u001b[0m\u001b[1;33m,\u001b[0m\u001b[0mX_train_difficile\u001b[0m\u001b[1;33m,\u001b[0m\u001b[0mY_train_difficile\u001b[0m\u001b[1;33m,\u001b[0m\u001b[0mX_test_difficile\u001b[0m\u001b[1;33m,\u001b[0m\u001b[0mY_test_difficile\u001b[0m\u001b[1;33m,\u001b[0m\u001b[1;34m\"Oasis_second_difficile_n\"\u001b[0m\u001b[1;33m)\u001b[0m\u001b[1;33m\u001b[0m\u001b[0m\n\u001b[0m\u001b[0;32m      4\u001b[0m \u001b[1;32mprint\u001b[0m \u001b[1;34m\"Done2\"\u001b[0m\u001b[1;33m\u001b[0m\u001b[0m\n\u001b[0;32m      5\u001b[0m \u001b[0mOasis_Process\u001b[0m\u001b[1;33m(\u001b[0m\u001b[0mclf_Oasis_third\u001b[0m\u001b[1;33m,\u001b[0m\u001b[0mX_train_difficile\u001b[0m\u001b[1;33m,\u001b[0m\u001b[0mY_train_difficile\u001b[0m\u001b[1;33m,\u001b[0m\u001b[0mX_test_difficile\u001b[0m\u001b[1;33m,\u001b[0m\u001b[0mY_test_difficile\u001b[0m\u001b[1;33m,\u001b[0m\u001b[1;34m\"Oasis_third_difficile_n\"\u001b[0m\u001b[1;33m)\u001b[0m\u001b[1;33m\u001b[0m\u001b[0m\n",
        "\u001b[1;32m<ipython-input-13-82f21e327c4d>\u001b[0m in \u001b[0;36mOasis_Process\u001b[1;34m(Oasis_model, X_train, Y_train, X_test, Y_test, name)\u001b[0m\n\u001b[0;32m      1\u001b[0m \u001b[1;32mdef\u001b[0m \u001b[0mOasis_Process\u001b[0m\u001b[1;33m(\u001b[0m\u001b[0mOasis_model\u001b[0m\u001b[1;33m,\u001b[0m\u001b[0mX_train\u001b[0m\u001b[1;33m,\u001b[0m\u001b[0mY_train\u001b[0m\u001b[1;33m,\u001b[0m\u001b[0mX_test\u001b[0m\u001b[1;33m,\u001b[0m\u001b[0mY_test\u001b[0m\u001b[1;33m,\u001b[0m\u001b[0mname\u001b[0m\u001b[1;33m)\u001b[0m\u001b[1;33m:\u001b[0m\u001b[1;33m\u001b[0m\u001b[0m\n\u001b[1;32m----> 2\u001b[1;33m     \u001b[0mOasis_model\u001b[0m\u001b[1;33m.\u001b[0m\u001b[0mfit\u001b[0m\u001b[1;33m(\u001b[0m\u001b[0mX_train\u001b[0m\u001b[1;33m,\u001b[0m\u001b[0mY_train\u001b[0m\u001b[1;33m)\u001b[0m\u001b[1;33m\u001b[0m\u001b[0m\n\u001b[0m\u001b[0;32m      3\u001b[0m     \u001b[0mW\u001b[0m \u001b[1;33m=\u001b[0m \u001b[0mOasis_model\u001b[0m\u001b[1;33m.\u001b[0m\u001b[0m_weights\u001b[0m\u001b[1;33m.\u001b[0m\u001b[0mview\u001b[0m\u001b[1;33m(\u001b[0m\u001b[1;33m)\u001b[0m\u001b[1;33m\u001b[0m\u001b[0m\n\u001b[0;32m      4\u001b[0m     \u001b[0mW\u001b[0m\u001b[1;33m.\u001b[0m\u001b[0mshape\u001b[0m \u001b[1;33m=\u001b[0m \u001b[1;33m(\u001b[0m\u001b[0mnp\u001b[0m\u001b[1;33m.\u001b[0m\u001b[0mint\u001b[0m\u001b[1;33m(\u001b[0m\u001b[0mnp\u001b[0m\u001b[1;33m.\u001b[0m\u001b[0msqrt\u001b[0m\u001b[1;33m(\u001b[0m\u001b[0mW\u001b[0m\u001b[1;33m.\u001b[0m\u001b[0mshape\u001b[0m\u001b[1;33m[\u001b[0m\u001b[1;36m0\u001b[0m\u001b[1;33m]\u001b[0m\u001b[1;33m)\u001b[0m\u001b[1;33m)\u001b[0m\u001b[1;33m,\u001b[0m \u001b[0mnp\u001b[0m\u001b[1;33m.\u001b[0m\u001b[0mint\u001b[0m\u001b[1;33m(\u001b[0m\u001b[0mnp\u001b[0m\u001b[1;33m.\u001b[0m\u001b[0msqrt\u001b[0m\u001b[1;33m(\u001b[0m\u001b[0mW\u001b[0m\u001b[1;33m.\u001b[0m\u001b[0mshape\u001b[0m\u001b[1;33m[\u001b[0m\u001b[1;36m0\u001b[0m\u001b[1;33m]\u001b[0m\u001b[1;33m)\u001b[0m\u001b[1;33m)\u001b[0m\u001b[1;33m)\u001b[0m\u001b[1;33m\u001b[0m\u001b[0m\n\u001b[0;32m      5\u001b[0m \u001b[1;33m\u001b[0m\u001b[0m\n",
        "\u001b[1;32m/home/ubuntu/metric-learning-Challenge/oasis.py\u001b[0m in \u001b[0;36mfit\u001b[1;34m(self, X, y, overwrite_X, overwrite_y, verbose)\u001b[0m\n\u001b[0;32m    229\u001b[0m \u001b[1;33m\u001b[0m\u001b[0m\n\u001b[0;32m    230\u001b[0m             \u001b[1;32mif\u001b[0m \u001b[0mself\u001b[0m\u001b[1;33m.\u001b[0m\u001b[0msave_path\u001b[0m \u001b[1;32mis\u001b[0m \u001b[1;32mnot\u001b[0m \u001b[0mNone\u001b[0m\u001b[1;33m:\u001b[0m\u001b[1;33m\u001b[0m\u001b[0m\n\u001b[1;32m--> 231\u001b[1;33m                 \u001b[0mself\u001b[0m\u001b[1;33m.\u001b[0m\u001b[0m_save\u001b[0m\u001b[1;33m(\u001b[0m\u001b[0mbb\u001b[0m \u001b[1;33m+\u001b[0m \u001b[1;36m1\u001b[0m\u001b[1;33m)\u001b[0m  \u001b[1;31m# back up model state\u001b[0m\u001b[1;33m\u001b[0m\u001b[0m\n\u001b[0m\u001b[0;32m    232\u001b[0m \u001b[1;33m\u001b[0m\u001b[0m\n\u001b[0;32m    233\u001b[0m         \u001b[1;32mreturn\u001b[0m \u001b[0mself\u001b[0m\u001b[1;33m\u001b[0m\u001b[0m\n",
        "\u001b[1;32m/home/ubuntu/metric-learning-Challenge/oasis.py\u001b[0m in \u001b[0;36m_save\u001b[1;34m(self, n)\u001b[0m\n\u001b[0;32m     78\u001b[0m         \u001b[0mf\u001b[0m \u001b[1;33m=\u001b[0m \u001b[0mgzip\u001b[0m\u001b[1;33m.\u001b[0m\u001b[0mopen\u001b[0m\u001b[1;33m(\u001b[0m\u001b[0mfname\u001b[0m\u001b[1;33m,\u001b[0m \u001b[1;34m'wb'\u001b[0m\u001b[1;33m)\u001b[0m\u001b[1;33m\u001b[0m\u001b[0m\n\u001b[0;32m     79\u001b[0m         \u001b[0mstate\u001b[0m \u001b[1;33m=\u001b[0m \u001b[0mself\u001b[0m\u001b[1;33m.\u001b[0m\u001b[0m_getstate\u001b[0m\u001b[1;33m(\u001b[0m\u001b[1;33m)\u001b[0m\u001b[1;33m\u001b[0m\u001b[0m\n\u001b[1;32m---> 80\u001b[1;33m         \u001b[0mpickle\u001b[0m\u001b[1;33m.\u001b[0m\u001b[0mdump\u001b[0m\u001b[1;33m(\u001b[0m\u001b[0mstate\u001b[0m\u001b[1;33m,\u001b[0m \u001b[0mf\u001b[0m\u001b[1;33m)\u001b[0m\u001b[1;33m\u001b[0m\u001b[0m\n\u001b[0m\u001b[0;32m     81\u001b[0m         \u001b[0mf\u001b[0m\u001b[1;33m.\u001b[0m\u001b[0mclose\u001b[0m\u001b[1;33m(\u001b[0m\u001b[1;33m)\u001b[0m\u001b[1;33m\u001b[0m\u001b[0m\n\u001b[0;32m     82\u001b[0m \u001b[1;33m\u001b[0m\u001b[0m\n",
        "\u001b[1;32m/usr/lib/python2.7/gzip.pyc\u001b[0m in \u001b[0;36mwrite\u001b[1;34m(self, data)\u001b[0m\n\u001b[0;32m    234\u001b[0m             \u001b[0mself\u001b[0m\u001b[1;33m.\u001b[0m\u001b[0msize\u001b[0m \u001b[1;33m=\u001b[0m \u001b[0mself\u001b[0m\u001b[1;33m.\u001b[0m\u001b[0msize\u001b[0m \u001b[1;33m+\u001b[0m \u001b[0mlen\u001b[0m\u001b[1;33m(\u001b[0m\u001b[0mdata\u001b[0m\u001b[1;33m)\u001b[0m\u001b[1;33m\u001b[0m\u001b[0m\n\u001b[0;32m    235\u001b[0m             \u001b[0mself\u001b[0m\u001b[1;33m.\u001b[0m\u001b[0mcrc\u001b[0m \u001b[1;33m=\u001b[0m \u001b[0mzlib\u001b[0m\u001b[1;33m.\u001b[0m\u001b[0mcrc32\u001b[0m\u001b[1;33m(\u001b[0m\u001b[0mdata\u001b[0m\u001b[1;33m,\u001b[0m \u001b[0mself\u001b[0m\u001b[1;33m.\u001b[0m\u001b[0mcrc\u001b[0m\u001b[1;33m)\u001b[0m \u001b[1;33m&\u001b[0m \u001b[1;36m0xffffffffL\u001b[0m\u001b[1;33m\u001b[0m\u001b[0m\n\u001b[1;32m--> 236\u001b[1;33m             \u001b[0mself\u001b[0m\u001b[1;33m.\u001b[0m\u001b[0mfileobj\u001b[0m\u001b[1;33m.\u001b[0m\u001b[0mwrite\u001b[0m\u001b[1;33m(\u001b[0m \u001b[0mself\u001b[0m\u001b[1;33m.\u001b[0m\u001b[0mcompress\u001b[0m\u001b[1;33m.\u001b[0m\u001b[0mcompress\u001b[0m\u001b[1;33m(\u001b[0m\u001b[0mdata\u001b[0m\u001b[1;33m)\u001b[0m \u001b[1;33m)\u001b[0m\u001b[1;33m\u001b[0m\u001b[0m\n\u001b[0m\u001b[0;32m    237\u001b[0m             \u001b[0mself\u001b[0m\u001b[1;33m.\u001b[0m\u001b[0moffset\u001b[0m \u001b[1;33m+=\u001b[0m \u001b[0mlen\u001b[0m\u001b[1;33m(\u001b[0m\u001b[0mdata\u001b[0m\u001b[1;33m)\u001b[0m\u001b[1;33m\u001b[0m\u001b[0m\n\u001b[0;32m    238\u001b[0m \u001b[1;33m\u001b[0m\u001b[0m\n",
        "\u001b[1;31mIOError\u001b[0m: [Errno 28] No space left on device"
       ]
      }
     ],
     "prompt_number": 19
    },
    {
     "cell_type": "code",
     "collapsed": false,
     "input": [
      "%ls ~/clf_oasis2/\n",
      "\n"
     ],
     "language": "python",
     "metadata": {},
     "outputs": [
      {
       "output_type": "stream",
       "stream": "stdout",
       "text": [
        "model0001.pklz\r\n"
       ]
      }
     ],
     "prompt_number": 22
    }
   ],
   "metadata": {}
  }
 ]
}