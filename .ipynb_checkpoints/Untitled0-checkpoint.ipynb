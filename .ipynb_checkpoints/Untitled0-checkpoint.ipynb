{
 "metadata": {
  "name": "",
  "signature": "sha256:f39d10efa58b0d6a7ff72f53167417c1799490fbf4d96abc8da0e38d9f8b802f"
 },
 "nbformat": 3,
 "nbformat_minor": 0,
 "worksheets": []
}