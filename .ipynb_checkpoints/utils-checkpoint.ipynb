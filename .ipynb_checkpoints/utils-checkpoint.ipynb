{
 "metadata": {
  "name": "",
  "signature": "sha256:60fcf830484601eb71563112a7ba129262c382b34976d31a9c44eaab80c75287"
 },
 "nbformat": 3,
 "nbformat_minor": 0,
 "worksheets": [
  {
   "cells": [
    {
     "cell_type": "code",
     "collapsed": false,
     "input": [
      "from sklearn import metrics\n",
      "import matplotlib.pyplot as plt\n",
      "from scipy import io\n",
      "import bisect\n",
      "import numpy as np\n",
      "\n",
      "def readfile(file, test=True):\n",
      "    mat_file = io.loadmat(file)\n",
      "    X = mat_file['X']\n",
      "    if test:\n",
      "        Y = mat_file['pairs']\n",
      "    else:\n",
      "        Y = mat_file['label']\n",
      "    return X,Y\n",
      "\n",
      "\n",
      "def roc_report(pairs_label,dist,name,plot=True):\n",
      "    fpr, tpr, thresholds = metrics.roc_curve(pairs_label, -dist)\n",
      "    if plot:\n",
      "        plt.plot(fpr, tpr, label= name)\n",
      "        plt.plot([0, 1], [0, 1], 'k--')\n",
      "        plt.xlim([0.0, 1.0])\n",
      "        plt.ylim([0.0, 1.0])\n",
      "        plt.xlabel('False Positive Rate')\n",
      "        plt.ylabel('True Positive Rate')\n",
      "    score_facile = 1.0 - tpr[bisect.bisect(fpr, 0.001) - 1]\n",
      "    idx = (np.abs(fpr + tpr - 1.)).argmin()\n",
      "    score_difficile = (fpr[idx]+(1-tpr[idx]))/2\n",
      "    return score_facile,score_difficile"
     ],
     "language": "python",
     "metadata": {},
     "outputs": []
    },
    {
     "cell_type": "code",
     "collapsed": false,
     "input": [
      "def generate_pairs(label, n_pairs, positive_ratio, random_state=42):\n",
      "    \"\"\"Generate a set of pair indices\n",
      "    \n",
      "    Parameters\n",
      "    ----------\n",
      "    label : array, shape (n_samples, 1)\n",
      "        Label vector\n",
      "    n_pairs : int\n",
      "        Number of pairs to generate\n",
      "    positive_ratio : float\n",
      "        Positive to negative ratio for pairs\n",
      "    random_state : int\n",
      "        Random seed for reproducibility\n",
      "        \n",
      "    Output\n",
      "    ------\n",
      "    pairs_idx : array, shape (n_pairs, 2)\n",
      "        The indices for the set of pairs\n",
      "    label_pairs : array, shape (n_pairs, 1)\n",
      "        The pair labels (+1 or -1)\n",
      "    \"\"\"\n",
      "    rng = np.random.RandomState(random_state)\n",
      "    n_samples = label.shape[0]\n",
      "    pairs_idx = np.zeros((n_pairs, 2), dtype=int)\n",
      "    pairs_idx[:, 0] = rng.randint(0, n_samples, n_pairs)\n",
      "    rand_vec = rng.rand(n_pairs)\n",
      "    for i in range(n_pairs):\n",
      "        if rand_vec[i] <= positive_ratio:\n",
      "            idx_same = np.where(label == label[pairs_idx[i, 0]])[0]\n",
      "            idx2 = rng.randint(idx_same.shape[0])\n",
      "            pairs_idx[i, 1] = idx_same[idx2]\n",
      "        else:\n",
      "            idx_diff = np.where(label != label[pairs_idx[i, 0]])[0]\n",
      "            idx2 = rng.randint(idx_diff.shape[0])\n",
      "            pairs_idx[i, 1] = idx_diff[idx2]\n",
      "    pairs_label = 2.0 * (label[pairs_idx[:, 0]] == label[pairs_idx[:, 1]]) - 1.0\n",
      "    return pairs_idx, pairs_label"
     ],
     "language": "python",
     "metadata": {},
     "outputs": []
    }
   ],
   "metadata": {}
  }
 ]
}