{
 "metadata": {
  "name": "",
  "signature": "sha256:e16ae284992f6b628ffba7311bdb66057edf35271b7b70acf621fca58d18fa06"
 },
 "nbformat": 3,
 "nbformat_minor": 0,
 "worksheets": [
  {
   "cells": [
    {
     "cell_type": "code",
     "collapsed": false,
     "input": [
      "from sklearn import metrics\n",
      "import matplotlib.pyplot as plt\n",
      "from scipy import io\n",
      "import bisect\n",
      "import numpy as np\n",
      "from  sklearn.preprocessing import normalize\n",
      "from scipy.spatial import distance\n",
      "import matplotlib.pyplot as plt\n",
      "import pandas as pd\n",
      "import numpy as np\n",
      "from sklearn.decomposition import PCA\n",
      "import numpy as np\n",
      "import random\n",
      "import oasis\n",
      "\n",
      "%matplotlib inline"
     ],
     "language": "python",
     "metadata": {},
     "outputs": [],
     "prompt_number": 8
    },
    {
     "cell_type": "code",
     "collapsed": false,
     "input": [
      "%ls"
     ],
     "language": "python",
     "metadata": {},
     "outputs": [
      {
       "output_type": "stream",
       "stream": "stdout",
       "text": [
        "Importance de la PCA (mode difficile).png  dist_hard_SDML.txt\r\n",
        "Importance de la PCA (mode facile).png     first_test_oasis.txt\r\n",
        "Importance du nombre de features.png       first_test_oasis_facile.txt\r\n",
        "Oasis.ipynb                                main.ipynb\r\n",
        "Oasis_fifth_difficile.txt                  main.py\r\n",
        "Oasis_fifth_facile.txt                     main2-Hard.ipynb\r\n",
        "Oasis_fist_difficile.txt                   main2.ipynb\r\n",
        "Oasis_fist_facile.txt                      main_metrics_learning.ipynb\r\n",
        "Oasis_fourth_difficile.txt                 \u001b[0m\u001b[01;34mmetric_learn\u001b[0m/\r\n",
        "Oasis_fourth_facile.txt                    \u001b[01;34mmetric_learn.egg-info\u001b[0m/\r\n",
        "Oasis_second_difficile.txt                 metric_learn.ipynb\r\n",
        "Oasis_second_facile.txt                    metric_learn.ipynbI5SBMO\r\n",
        "Oasis_sixth_facile.txt                     metric_learn.ipynbUMEYQU\r\n",
        "Oasis_third_difficile.txt                  metric_learn.ipynbbhBOK3\r\n",
        "Oasis_third_facile.txt                     metric_learn.ipynbev3k20\r\n",
        "README.md                                  metric_learn.ipynburePQD\r\n",
        "Untitled0.ipynb                            metric_learn.py\r\n",
        "\u001b[01;34mbuild\u001b[0m/                                     metric_learn.pyc\r\n",
        "\u001b[01;34mdist\u001b[0m/                                      oasis.py\r\n",
        "dist_facile_ITML.txt                       oasis.pyc\r\n",
        "dist_facile_LSML.txt                       soumission_hard_bray_curtis.txt\r\n",
        "dist_facile_SDML.txt                       utils.ipynb\r\n",
        "dist_hard_ITML.txt                         utils.py\r\n",
        "dist_hard_LSML.txt                         \u001b[01;34m~\u001b[0m/\r\n"
       ]
      }
     ],
     "prompt_number": 9
    },
    {
     "cell_type": "code",
     "collapsed": false,
     "input": [
      "def readfile(file, test=True):\n",
      "    mat_file = io.loadmat(file)\n",
      "    X = mat_file['X']\n",
      "    if test:\n",
      "        Y = mat_file['pairs']\n",
      "    else:\n",
      "        Y = mat_file['label']\n",
      "    return X,Y\n",
      "\n",
      "\n",
      "def roc_report(pairs_label,dist,name,plot=True):\n",
      "    fpr, tpr, thresholds = metrics.roc_curve(pairs_label, -dist)\n",
      "    if plot:\n",
      "        plt.plot(fpr, tpr, label= name)\n",
      "        plt.plot([0, 1], [0, 1], 'k--')\n",
      "        plt.xlim([0.0, 1.0])\n",
      "        plt.ylim([0.0, 1.0])\n",
      "        plt.xlabel('False Positive Rate')\n",
      "        plt.ylabel('True Positive Rate')\n",
      "    score_facile = 1.0 - tpr[bisect.bisect(fpr, 0.001) - 1]\n",
      "    idx = (np.abs(fpr + tpr - 1.)).argmin()\n",
      "    score_difficile = (fpr[idx]+(1-tpr[idx]))/2\n",
      "    return score_facile,score_difficile\n",
      "\n",
      "def generate_pairs(label, n_pairs, positive_ratio, random_state=42):\n",
      "    \"\"\"Generate a set of pair indices\n",
      "    \n",
      "    Parameters\n",
      "    ----------\n",
      "    label : array, shape (n_samples, 1)\n",
      "        Label vector\n",
      "    n_pairs : int\n",
      "        Number of pairs to generate\n",
      "    positive_ratio : float\n",
      "        Positive to negative ratio for pairs\n",
      "    random_state : int\n",
      "        Random seed for reproducibility\n",
      "        \n",
      "    Output\n",
      "    ------\n",
      "    pairs_idx : array, shape (n_pairs, 2)\n",
      "        The indices for the set of pairs\n",
      "    label_pairs : array, shape (n_pairs, 1)\n",
      "        The pair labels (+1 or -1)\n",
      "    \"\"\"\n",
      "    rng = np.random.RandomState(random_state)\n",
      "    n_samples = label.shape[0]\n",
      "    pairs_idx = np.zeros((n_pairs, 2), dtype=int)\n",
      "    pairs_idx[:, 0] = rng.randint(0, n_samples, n_pairs)\n",
      "    rand_vec = rng.rand(n_pairs)\n",
      "    for i in range(n_pairs):\n",
      "        if rand_vec[i] <= positive_ratio:\n",
      "            idx_same = np.where(label == label[pairs_idx[i, 0]])[0]\n",
      "            idx2 = rng.randint(idx_same.shape[0])\n",
      "            pairs_idx[i, 1] = idx_same[idx2]\n",
      "        else:\n",
      "            idx_diff = np.where(label != label[pairs_idx[i, 0]])[0]\n",
      "            idx2 = rng.randint(idx_diff.shape[0])\n",
      "            pairs_idx[i, 1] = idx_diff[idx2]\n",
      "    pairs_label = 2.0 * (label[pairs_idx[:, 0]] == label[pairs_idx[:, 1]]) - 1.0\n",
      "    return pairs_idx, pairs_label"
     ],
     "language": "python",
     "metadata": {},
     "outputs": [],
     "prompt_number": 10
    },
    {
     "cell_type": "code",
     "collapsed": false,
     "input": [
      "def distances_pairs(X,pairs,dist_func, batch_size=10000):\n",
      "    n_pairs = pairs.shape[0]\n",
      "    dist = np.ones((n_pairs,), dtype=np.dtype(\"float32\"))\n",
      "    for a in range(0, n_pairs, batch_size):\n",
      "        b = min(a + batch_size, n_pairs)\n",
      "        dist[a:b] =  [dist_func(X[pairs[i,0],:],X[pairs[i,1],:]) for i in range(a,b)]\n",
      "    return dist\n",
      "    "
     ],
     "language": "python",
     "metadata": {},
     "outputs": [],
     "prompt_number": 11
    },
    {
     "cell_type": "code",
     "collapsed": false,
     "input": [
      "X_train_facile, Y_train_facile = readfile('/run/shm/MLA_AWS/data/data_train_facile',test=False)\n",
      "X_test_facile, Y_test_facile = readfile('/run/shm/MLA_AWS/data/data_test_facile',test=True)\n",
      "\n",
      "X_train_facile = X_train_facile\n",
      "Y_train_facile = Y_train_facile.flatten()\n",
      "\n",
      "X_test_facile = X_test_facile\n",
      "Y_test_facile = Y_test_facile#.flatten()"
     ],
     "language": "python",
     "metadata": {},
     "outputs": [],
     "prompt_number": 130
    },
    {
     "cell_type": "code",
     "collapsed": false,
     "input": [
      "X_train_difficile, Y_train_difficile = readfile('/dev/MLA_AWS/data/data_train_difficile',test=False)\n",
      "X_test_difficile, Y_test_difficile = readfile('/dev/MLA_AWS/data/data_test_difficile',test=True)\n",
      "\n",
      "X_train_difficile = X_train_difficile\n",
      "Y_train_difficile = Y_train_difficile.flatten()\n",
      "\n",
      "X_test_difficile = X_test_difficile\n",
      "Y_test_difficile = Y_test_difficile#.flatten()"
     ],
     "language": "python",
     "metadata": {},
     "outputs": [],
     "prompt_number": 12
    },
    {
     "cell_type": "code",
     "collapsed": false,
     "input": [
      "%ls /dev/MLA_AWS"
     ],
     "language": "python",
     "metadata": {},
     "outputs": [
      {
       "output_type": "stream",
       "stream": "stdout",
       "text": [
        "ls: cannot access /dev/MLA_AWS: No such file or directory\r\n"
       ]
      }
     ],
     "prompt_number": 7
    },
    {
     "cell_type": "code",
     "collapsed": false,
     "input": [
      "def Oasis_Process(Oasis_model,X_train,Y_train,X_test,Y_test,name):\n",
      "    Oasis_model.fit(X_train,Y_train)\n",
      "    W = Oasis_model._weights.view()\n",
      "    W.shape = (np.int(np.sqrt(W.shape[0])), np.int(np.sqrt(W.shape[0])))\n",
      "    \n",
      "    y = []\n",
      "    print Y_test\n",
      "    for (y1,y2) in Y_test:\n",
      "        y.append(np.dot(X_test[y1],np.dot(W,X_test[y2])))\n",
      "    np.savetxt(name+'.txt', y, fmt='%.5f')"
     ],
     "language": "python",
     "metadata": {},
     "outputs": [],
     "prompt_number": 13
    },
    {
     "cell_type": "code",
     "collapsed": false,
     "input": [
      "'''clf_Oasis_first = oasis.Oasis(aggress=0.1, random_seed=42, do_sym=True, do_psd=True, n_iter=10000, save_every=50000, sym_every=100000, psd_every=500000, save_path=\"~/clf_oasis1\")\n",
      "clf_Oasis_second = oasis.Oasis(aggress=0.1, random_seed=42, do_sym=True, do_psd=True, n_iter=100000, save_every=50000, sym_every= 10000, psd_every=50000, save_path=\"~/clf_oasis2\")\n",
      "clf_Oasis_third = oasis.Oasis(aggress=0.1, random_seed=42, do_sym=True, do_psd=True, n_iter=1000000, save_every=50000, sym_every= 100000, psd_every=10000, save_path=\"~/clf_oasis3\")\n",
      "clf_Oasis_fourth = oasis.Oasis(aggress=0.1, random_seed=42, do_sym=True, do_psd=False, n_iter=10000000, save_every=50000, sym_every= 100000 , psd_every=500000, save_path=\"~/clf_oasis4\")\n",
      "clf_Oasis_fifth = oasis.Oasis(aggress=0.1, random_seed=42, do_sym=False, do_psd=True, n_iter=10000000, save_every=50000, sym_every= 100000, psd_every=500000, save_path=\"~/clf_oasis5\")\n",
      "clf_Oasis_sixth = oasis.Oasis(aggress=0.1, random_seed=42, do_sym=False, do_psd=False, n_iter=10000000, save_every=50000, sym_every= 100000, psd_every=50000, save_path=\"~/clf_oasis6\")'''\n",
      "#clf_Oasis_first = oasis.Oasis(aggress=0.1, random_seed=42, do_sym=True, do_psd=True, n_iter=10000, save_every=50000, sym_every=100000, psd_every=500000, save_path=None)\n",
      "clf_Oasis_second = oasis.Oasis(aggress=0.1, random_seed=42, do_sym=True, do_psd=True, n_iter=100000, save_every=50000, sym_every= 10000, psd_every=50000, save_path=None)\n",
      "clf_Oasis_third = oasis.Oasis(aggress=0.1, random_seed=42, do_sym=True, do_psd=True, n_iter=1000000, save_every=50000, sym_every= 100000, psd_every=10000, save_path=None)\n",
      "clf_Oasis_fourth = oasis.Oasis(aggress=0.1, random_seed=42, do_sym=True, do_psd=False, n_iter=10000000, save_every=50000, sym_every= 100000 , psd_every=500000, save_path=None)\n",
      "clf_Oasis_fifth = oasis.Oasis(aggress=0.1, random_seed=42, do_sym=False, do_psd=True, n_iter=10000000, save_every=50000, sym_every= 100000, psd_every=500000, save_path=None)\n",
      "clf_Oasis_sixth = oasis.Oasis(aggress=0.1, random_seed=42, do_sym=False, do_psd=False, n_iter=10000000, save_every=50000, sym_every= 100000, psd_every=50000, save_path=None)"
     ],
     "language": "python",
     "metadata": {},
     "outputs": [],
     "prompt_number": 23
    },
    {
     "cell_type": "code",
     "collapsed": false,
     "input": [
      "%cd ~/metric_learning/metric-learning-Challenge/\n",
      "\n",
      "%ls"
     ],
     "language": "python",
     "metadata": {},
     "outputs": []
    },
    {
     "cell_type": "code",
     "collapsed": false,
     "input": [
      "Oasis_Process(clf_Oasis_first,X_train_facile,Y_train_facile,X_test_facile,Y_test_facile,\"Oasis_fist_facile_n\")\n",
      "print \"Done\"\n",
      "Oasis_Process(clf_Oasis_second,X_train_facile,Y_train_facile,X_test_facile,Y_test_facile,\"Oasis_second_facile_n\")\n",
      "print \"Done\"\n",
      "Oasis_Process(clf_Oasis_third,X_train_facile,Y_train_facile,X_test_facile,Y_test_facile,\"Oasis_third_facile_n\")\n",
      "print \"Done\"\n",
      "Oasis_Process(clf_Oasis_fourth,X_train_facile,Y_train_facile,X_test_facile,Y_test_facile,\"Oasis_fourth_facile_n\")\n",
      "print \"Done\"\n",
      "Oasis_Process(clf_Oasis_fifth,X_train_facile,Y_train_facile,X_test_facile,Y_test_facile,\"Oasis_fifth_facile_n\")\n",
      "print \"Done\"\n",
      "Oasis_Process(clf_Oasis_sixth,X_train_facile,Y_train_facile,X_test_facile,Y_test_facile,\"Oasis_sixth_facile_n\")"
     ],
     "language": "python",
     "metadata": {},
     "outputs": []
    },
    {
     "cell_type": "code",
     "collapsed": false,
     "input": [
      "#Oasis_Process(clf_Oasis_first,X_train_difficile,Y_train_difficile,X_test_difficile,Y_test_difficile,\"Oasis_fist_difficile_n\")\n",
      "print \"Done2\"\n",
      "Oasis_Process(clf_Oasis_second,X_train_difficile,Y_train_difficile,X_test_difficile,Y_test_difficile,\"Oasis_second_difficile_n\")\n",
      "print \"Done2\"\n",
      "Oasis_Process(clf_Oasis_third,X_train_difficile,Y_train_difficile,X_test_difficile,Y_test_difficile,\"Oasis_third_difficile_n\")\n",
      "print \"Done2\"\n",
      "Oasis_Process(clf_Oasis_fourth,X_train_difficile,Y_train_difficile,X_test_difficile,Y_test_difficile,\"Oasis_fourth_difficile_n\")\n",
      "print \"Done2\"\n",
      "Oasis_Process(clf_Oasis_fifth,X_train_difficile,Y_train_difficile,X_test_difficile,Y_test_difficile,\"Oasis_fifth_difficile_n\")\n",
      "print \"Done2\"\n",
      "Oasis_Process(clf_Oasis_sixth,X_train_difficile,Y_train_difficile,X_test_difficile,Y_test_difficile,\"Oasis_sixth_difficile_n\")"
     ],
     "language": "python",
     "metadata": {},
     "outputs": []
    },
    {
     "cell_type": "code",
     "collapsed": false,
     "input": [
      "%ls ~/clf_oasis2/\n",
      "\n"
     ],
     "language": "python",
     "metadata": {},
     "outputs": [
      {
       "output_type": "stream",
       "stream": "stdout",
       "text": [
        "model0001.pklz\r\n"
       ]
      }
     ],
     "prompt_number": 22
    }
   ],
   "metadata": {}
  }
 ]
}