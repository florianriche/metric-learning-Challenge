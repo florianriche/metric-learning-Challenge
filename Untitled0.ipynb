{
 "metadata": {
  "name": "",
  "signature": "sha256:a8858f634f78a64482e2772be1747a4a807248b7029a8c22a9f2aa5fcd168150"
 },
 "nbformat": 3,
 "nbformat_minor": 0,
 "worksheets": [
  {
   "cells": [
    {
     "cell_type": "code",
     "collapsed": false,
     "input": [
      "%ls"
     ],
     "language": "python",
     "metadata": {},
     "outputs": [
      {
       "output_type": "stream",
       "stream": "stdout",
       "text": [
        "Importance de la PCA (mode difficile).png  dist_hard_LSML.txt\r\n",
        "Importance de la PCA (mode facile).png     dist_hard_SDML.txt\r\n",
        "Importance du nombre de features.png       first_test_oasis.txt\r\n",
        "Oasis.ipynb                                first_test_oasis_facile.txt\r\n",
        "Oasis_fifth_difficile.txt                  main.ipynb\r\n",
        "Oasis_fifth_facile.txt                     main.py\r\n",
        "Oasis_fist_difficile.txt                   main2-Hard.ipynb\r\n",
        "Oasis_fist_facile.txt                      main2.ipynb\r\n",
        "Oasis_fourth_difficile.txt                 main_metrics_learning.ipynb\r\n",
        "Oasis_fourth_facile.txt                    \u001b[0m\u001b[01;34mmetric_learn\u001b[0m/\r\n",
        "Oasis_second_difficile.txt                 metric_learn.ipynbI5SBMO\r\n",
        "Oasis_second_facile.txt                    metric_learn.ipynbUMEYQU\r\n",
        "Oasis_sixth_facile.txt                     metric_learn.ipynbbhBOK3\r\n",
        "Oasis_third_difficile.txt                  metric_learn.ipynbev3k20\r\n",
        "Oasis_third_facile.txt                     metric_learn.ipynburePQD\r\n",
        "README.md                                  oasis.py\r\n",
        "Untitled0.ipynb                            oasis.pyc\r\n",
        "dist_facile_ITML.txt                       soumission_hard_bray_curtis.txt\r\n",
        "dist_facile_LSML.txt                       utils.ipynb\r\n",
        "dist_facile_SDML.txt                       utils.py\r\n",
        "dist_hard_ITML.txt                         \u001b[01;34m~\u001b[0m/\r\n"
       ]
      }
     ],
     "prompt_number": 5
    }
   ],
   "metadata": {}
  }
 ]
}