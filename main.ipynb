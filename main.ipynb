{
 "metadata": {
  "name": "",
  "signature": "sha256:6a75793697b990b66e8e5d68e80543c38dbffe3dfd90b1c93111e17022aa75bc"
 },
 "nbformat": 3,
 "nbformat_minor": 0,
 "worksheets": [
  {
   "cells": [
    {
     "cell_type": "code",
     "collapsed": false,
     "input": [
      "from sklearn import metrics\n",
      "import matplotlib.pyplot as plt\n",
      "from scipy import io\n",
      "import bisect\n",
      "import numpy as np\n",
      "from  sklearn.preprocessing import normalize\n",
      "from metric_learn import distances_pairs\n",
      "from scipy.spatial import distance\n",
      "import matplotlib.pyplot as plt\n",
      "import pandas as pd\n",
      "import numpy as np\n",
      "from sklearn.decomposition import PCA\n",
      "import numpy as np\n",
      "import random\n",
      "%matplotlib inline"
     ],
     "language": "python",
     "metadata": {},
     "outputs": [],
     "prompt_number": 50
    },
    {
     "cell_type": "code",
     "collapsed": false,
     "input": [
      "def readfile(file, test=True):\n",
      "    mat_file = io.loadmat(file)\n",
      "    X = mat_file['X']\n",
      "    if test:\n",
      "        Y = mat_file['pairs']\n",
      "    else:\n",
      "        Y = mat_file['label']\n",
      "    return X,Y\n",
      "\n",
      "\n",
      "def roc_report(pairs_label,dist,name,plot=True):\n",
      "    fpr, tpr, thresholds = metrics.roc_curve(pairs_label, -dist)\n",
      "    if plot:\n",
      "        plt.plot(fpr, tpr, label= name)\n",
      "        plt.plot([0, 1], [0, 1], 'k--')\n",
      "        plt.xlim([0.0, 1.0])\n",
      "        plt.ylim([0.0, 1.0])\n",
      "        plt.xlabel('False Positive Rate')\n",
      "        plt.ylabel('True Positive Rate')\n",
      "    score_facile = 1.0 - tpr[bisect.bisect(fpr, 0.001) - 1]\n",
      "    idx = (np.abs(fpr + tpr - 1.)).argmin()\n",
      "    score_difficile = (fpr[idx]+(1-tpr[idx]))/2\n",
      "    return score_facile,score_difficile\n",
      "\n",
      "def generate_pairs(label, n_pairs, positive_ratio, random_state=42):\n",
      "    \"\"\"Generate a set of pair indices\n",
      "    \n",
      "    Parameters\n",
      "    ----------\n",
      "    label : array, shape (n_samples, 1)\n",
      "        Label vector\n",
      "    n_pairs : int\n",
      "        Number of pairs to generate\n",
      "    positive_ratio : float\n",
      "        Positive to negative ratio for pairs\n",
      "    random_state : int\n",
      "        Random seed for reproducibility\n",
      "        \n",
      "    Output\n",
      "    ------\n",
      "    pairs_idx : array, shape (n_pairs, 2)\n",
      "        The indices for the set of pairs\n",
      "    label_pairs : array, shape (n_pairs, 1)\n",
      "        The pair labels (+1 or -1)\n",
      "    \"\"\"\n",
      "    rng = np.random.RandomState(random_state)\n",
      "    n_samples = label.shape[0]\n",
      "    pairs_idx = np.zeros((n_pairs, 2), dtype=int)\n",
      "    pairs_idx[:, 0] = rng.randint(0, n_samples, n_pairs)\n",
      "    rand_vec = rng.rand(n_pairs)\n",
      "    for i in range(n_pairs):\n",
      "        if rand_vec[i] <= positive_ratio:\n",
      "            idx_same = np.where(label == label[pairs_idx[i, 0]])[0]\n",
      "            idx2 = rng.randint(idx_same.shape[0])\n",
      "            pairs_idx[i, 1] = idx_same[idx2]\n",
      "        else:\n",
      "            idx_diff = np.where(label != label[pairs_idx[i, 0]])[0]\n",
      "            idx2 = rng.randint(idx_diff.shape[0])\n",
      "            pairs_idx[i, 1] = idx_diff[idx2]\n",
      "    pairs_label = 2.0 * (label[pairs_idx[:, 0]] == label[pairs_idx[:, 1]]) - 1.0\n",
      "    return pairs_idx, pairs_label"
     ],
     "language": "python",
     "metadata": {},
     "outputs": [],
     "prompt_number": 7
    },
    {
     "cell_type": "code",
     "collapsed": false,
     "input": [
      "def distances_pairs(X,pairs,dist_func, batch_size=10000):\n",
      "    n_pairs = pairs.shape[0]\n",
      "    dist = np.ones((n_pairs,), dtype=np.dtype(\"float32\"))\n",
      "    for a in range(0, n_pairs, batch_size):\n",
      "        b = min(a + batch_size, n_pairs)\n",
      "        dist[a:b] =  [dist_func(X[pairs[i,0],:],X[pairs[i,1],:]) for i in range(a,b)]\n",
      "    return dist\n",
      "    "
     ],
     "language": "python",
     "metadata": {},
     "outputs": [],
     "prompt_number": 51
    },
    {
     "cell_type": "code",
     "collapsed": false,
     "input": [
      "X_train_facile, Y_train_facile = readfile('/dev/ML_AWS/data/data_train_facile',test=False)\n",
      "\n",
      "X_train_facile = normalize(X_train_facile)\n",
      "pairs_idx, pairs_label = generate_pairs(Y_train_facile, 1000, 0.1)"
     ],
     "language": "python",
     "metadata": {},
     "outputs": [],
     "prompt_number": 9
    },
    {
     "cell_type": "code",
     "collapsed": false,
     "input": [],
     "language": "python",
     "metadata": {},
     "outputs": [
      {
       "metadata": {},
       "output_type": "pyout",
       "prompt_number": 10,
       "text": [
        "array([[ 0.19032633,  0.02896916,  0.16640556, ..., -0.00992515,\n",
        "        -0.01273689,  0.00090294],\n",
        "       [ 0.13276111, -0.08480223, -0.08068228, ...,  0.0151862 ,\n",
        "         0.02210747, -0.00301414],\n",
        "       [-0.0227177 , -0.20891145,  0.0010387 , ...,  0.00024995,\n",
        "         0.00104073, -0.00895372],\n",
        "       ..., \n",
        "       [ 0.09190273, -0.00988013,  0.1982972 , ...,  0.01454317,\n",
        "        -0.0371356 ,  0.01121355],\n",
        "       [ 0.15279894,  0.03666062,  0.07444807, ...,  0.02151168,\n",
        "         0.0022106 ,  0.02445709],\n",
        "       [ 0.13069607, -0.03529545,  0.1982065 , ..., -0.01697497,\n",
        "        -0.02067656,  0.0186185 ]], dtype=float32)"
       ]
      }
     ],
     "prompt_number": 10
    },
    {
     "cell_type": "code",
     "collapsed": false,
     "input": [
      "scores = []\n",
      "possible_distances =[(\"Cosine\",distance.cosine),\n",
      "                     (\"BrayCurtis\",distance.braycurtis),\n",
      "(\"Euclidean\",distance.euclidean),(\"Manhattan\",distance.cityblock),(\"Chebyshev\",distance.chebyshev),\n",
      "(\"Correlation\",distance.correlation) ]\n",
      "\n",
      "for (name,func) in possible_distances:\n",
      "    print name\n",
      "    dist = distances_pairs(X_train_facile, pairs_idx,func)\n",
      "    #print dist\n",
      "    score_facile , score_difficile = roc_report(pairs_label,dist,name)\n",
      "    scores.append((name,score_facile,score_difficile))\n",
      "\n",
      "scores = pd.DataFrame(scores,columns = [\"id\",\"facile\",\"difficile\"])\n",
      "plt.legend(loc='best')\n",
      "plt.show()\n",
      "scores.sort('facile')"
     ],
     "language": "python",
     "metadata": {},
     "outputs": [
      {
       "output_type": "stream",
       "stream": "stdout",
       "text": [
        "Cosine\n",
        "BrayCurtis"
       ]
      },
      {
       "output_type": "stream",
       "stream": "stdout",
       "text": [
        "\n",
        "Euclidean"
       ]
      },
      {
       "output_type": "stream",
       "stream": "stdout",
       "text": [
        "\n",
        "Manhattan"
       ]
      },
      {
       "output_type": "stream",
       "stream": "stdout",
       "text": [
        "\n",
        "Chebyshev"
       ]
      },
      {
       "output_type": "stream",
       "stream": "stdout",
       "text": [
        "\n",
        "Correlation"
       ]
      },
      {
       "output_type": "stream",
       "stream": "stdout",
       "text": [
        "\n"
       ]
      },
      {
       "metadata": {},
       "output_type": "display_data",
       "png": "[encoded data removed]",
       "text": [
        "<matplotlib.figure.Figure at 0x7f9d67654290>"
       ]
      },
      {
       "html": [
        "<div style=\"max-height:1000px;max-width:1500px;overflow:auto;\">\n",
        "<table border=\"1\" class=\"dataframe\">\n",
        "  <thead>\n",
        "    <tr style=\"text-align: right;\">\n",
        "      <th></th>\n",
        "      <th>id</th>\n",
        "      <th>facile</th>\n",
        "      <th>difficile</th>\n",
        "    </tr>\n",
        "  </thead>\n",
        "  <tbody>\n",
        "    <tr>\n",
        "      <th>1</th>\n",
        "      <td>  BrayCurtis</td>\n",
        "      <td> 0.070796</td>\n",
        "      <td> 0.025676</td>\n",
        "    </tr>\n",
        "    <tr>\n",
        "      <th>0</th>\n",
        "      <td>      Cosine</td>\n",
        "      <td> 0.150442</td>\n",
        "      <td> 0.026803</td>\n",
        "    </tr>\n",
        "    <tr>\n",
        "      <th>2</th>\n",
        "      <td>   Euclidean</td>\n",
        "      <td> 0.150442</td>\n",
        "      <td> 0.026803</td>\n",
        "    </tr>\n",
        "    <tr>\n",
        "      <th>3</th>\n",
        "      <td>   Manhattan</td>\n",
        "      <td> 0.150442</td>\n",
        "      <td> 0.051351</td>\n",
        "    </tr>\n",
        "    <tr>\n",
        "      <th>5</th>\n",
        "      <td> Correlation</td>\n",
        "      <td> 0.150442</td>\n",
        "      <td> 0.026803</td>\n",
        "    </tr>\n",
        "    <tr>\n",
        "      <th>4</th>\n",
        "      <td>   Chebyshev</td>\n",
        "      <td> 0.238938</td>\n",
        "      <td> 0.072602</td>\n",
        "    </tr>\n",
        "  </tbody>\n",
        "</table>\n",
        "</div>"
       ],
       "metadata": {},
       "output_type": "pyout",
       "prompt_number": 54,
       "text": [
        "            id    facile  difficile\n",
        "1   BrayCurtis  0.070796   0.025676\n",
        "0       Cosine  0.150442   0.026803\n",
        "2    Euclidean  0.150442   0.026803\n",
        "3    Manhattan  0.150442   0.051351\n",
        "5  Correlation  0.150442   0.026803\n",
        "4    Chebyshev  0.238938   0.072602"
       ]
      }
     ],
     "prompt_number": 54
    },
    {
     "cell_type": "code",
     "collapsed": false,
     "input": [
      "number_features = range(10,1500,100)\n",
      "rng = np.random.RandomState(42)\n",
      "scores_nbFeatures_easy = []\n",
      "scores_nbFeatures_hard = []\n",
      "\n",
      "for nb_feature in number_features:\n",
      "    sample = np.random.sample(nb_feature)\n",
      "    I = rng.randint(0,X_train_facile.shape[1],size=nb_feature)\n",
      "    X_tmp = X_train_facile[:,I]\n",
      "    print X_tmp.shape\n",
      "    dist = distances_pairs(X_tmp, pairs_idx,distance.braycurtis)\n",
      "    score_facile , score_difficile = roc_report(pairs_label,dist,\"braycurtis\",False)\n",
      "    scores_nbFeatures_easy.append(score_facile)\n",
      "    scores_nbFeatures_hard.append(score_difficile)"
     ],
     "language": "python",
     "metadata": {},
     "outputs": [
      {
       "output_type": "stream",
       "stream": "stdout",
       "text": [
        "(312022, 10)\n",
        "(312022, 110)"
       ]
      },
      {
       "output_type": "stream",
       "stream": "stdout",
       "text": [
        "\n",
        "(312022, 210)"
       ]
      },
      {
       "output_type": "stream",
       "stream": "stdout",
       "text": [
        "\n",
        "(312022, 310)"
       ]
      },
      {
       "output_type": "stream",
       "stream": "stdout",
       "text": [
        "\n",
        "(312022, 410)"
       ]
      },
      {
       "output_type": "stream",
       "stream": "stdout",
       "text": [
        "\n",
        "(312022, 510)"
       ]
      },
      {
       "output_type": "stream",
       "stream": "stdout",
       "text": [
        "\n",
        "(312022, 610)"
       ]
      },
      {
       "output_type": "stream",
       "stream": "stdout",
       "text": [
        "\n",
        "(312022, 710)"
       ]
      },
      {
       "output_type": "stream",
       "stream": "stdout",
       "text": [
        "\n",
        "(312022, 810)"
       ]
      },
      {
       "output_type": "stream",
       "stream": "stdout",
       "text": [
        "\n",
        "(312022, 910)"
       ]
      },
      {
       "output_type": "stream",
       "stream": "stdout",
       "text": [
        "\n",
        "(312022, 1010)"
       ]
      },
      {
       "output_type": "stream",
       "stream": "stdout",
       "text": [
        "\n",
        "(312022, 1110)"
       ]
      },
      {
       "output_type": "stream",
       "stream": "stdout",
       "text": [
        "\n",
        "(312022, 1210)"
       ]
      },
      {
       "output_type": "stream",
       "stream": "stdout",
       "text": [
        "\n",
        "(312022, 1310)"
       ]
      },
      {
       "output_type": "stream",
       "stream": "stdout",
       "text": [
        "\n",
        "(312022, 1410)"
       ]
      },
      {
       "output_type": "stream",
       "stream": "stdout",
       "text": [
        "\n"
       ]
      }
     ],
     "prompt_number": 16
    },
    {
     "cell_type": "code",
     "collapsed": false,
     "input": [
      "plt.plot(number_features,scores_nbFeatures_easy,label='score facile')\n",
      "plt.plot(number_features,scores_nbFeatures_hard,label='score difficile')\n",
      "plt.legend(loc='best')\n",
      "plt.savefig('Importance du nombre de features.png')\n",
      "plt.title('Score en fonction du nombre de features')\n",
      "plt.show()"
     ],
     "language": "python",
     "metadata": {},
     "outputs": [
      {
       "metadata": {},
       "output_type": "display_data",
       "png": "[encoded data removed]",
       "text": [
        "<matplotlib.figure.Figure at 0x7f9d677c4890>"
       ]
      }
     ],
     "prompt_number": 17
    },
    {
     "cell_type": "code",
     "collapsed": false,
     "input": [
      "number_features = range(10,1500,100)\n",
      "rng = np.random.RandomState(42)\n",
      "scores_nbFeatures_easy = []\n",
      "scores_nbFeatures_hard = []\n",
      "scores_PCA_easy = []\n",
      "scores_PCA_hard = []\n",
      "\n",
      "for nb_feature in number_features:\n",
      "    PCA_model = PCA(nb_feature)\n",
      "    X_tmp = PCA_model.fit_transform(X_train_facile)\n",
      "    print X_tmp.shape\n",
      "    score_easy = {}\n",
      "    score_hard = {}\n",
      "    for (name,func) in possible_distances:\n",
      "        dist = distances_pairs(X_tmp, pairs_idx,func)\n",
      "        score_facile , score_difficile = roc_report(pairs_label,dist,name,False)\n",
      "        score_easy[name] = score_facile\n",
      "        score_hard[name] = score_difficile\n",
      "    scores_PCA_easy.append(score_easy)\n",
      "    scores_PCA_hard.append(score_hard)\n",
      "    print pd.DataFrame(scores_PCA_easy)\n",
      "    \n",
      "plt.plot(scores_PCA_easy,label='score facile')\n",
      "plt.plot(scores_PCA_hard,label='score difficile')\n",
      "plt.legend(loc='best')\n",
      "plt.savefig('Importance de la PCA.png')\n",
      "plt.show()"
     ],
     "language": "python",
     "metadata": {},
     "outputs": [
      {
       "ename": "KeyboardInterrupt",
       "evalue": "",
       "output_type": "pyerr",
       "traceback": [
        "\u001b[1;31m---------------------------------------------------------------------------\u001b[0m\n\u001b[1;31mKeyboardInterrupt\u001b[0m                         Traceback (most recent call last)",
        "\u001b[1;32m<ipython-input-21-0f56148dc157>\u001b[0m in \u001b[0;36m<module>\u001b[1;34m()\u001b[0m\n\u001b[0;32m      8\u001b[0m \u001b[1;32mfor\u001b[0m \u001b[0mnb_feature\u001b[0m \u001b[1;32min\u001b[0m \u001b[0mnumber_features\u001b[0m\u001b[1;33m:\u001b[0m\u001b[1;33m\u001b[0m\u001b[0m\n\u001b[0;32m      9\u001b[0m     \u001b[0mPCA_model\u001b[0m \u001b[1;33m=\u001b[0m \u001b[0mPCA\u001b[0m\u001b[1;33m(\u001b[0m\u001b[0mnb_feature\u001b[0m\u001b[1;33m)\u001b[0m\u001b[1;33m\u001b[0m\u001b[0m\n\u001b[1;32m---> 10\u001b[1;33m     \u001b[0mX_tmp\u001b[0m \u001b[1;33m=\u001b[0m \u001b[0mPCA_model\u001b[0m\u001b[1;33m.\u001b[0m\u001b[0mfit_transform\u001b[0m\u001b[1;33m(\u001b[0m\u001b[0mX_train_facile\u001b[0m\u001b[1;33m)\u001b[0m\u001b[1;33m\u001b[0m\u001b[0m\n\u001b[0m\u001b[0;32m     11\u001b[0m     \u001b[1;32mprint\u001b[0m \u001b[0mX_tmp\u001b[0m\u001b[1;33m.\u001b[0m\u001b[0mshape\u001b[0m\u001b[1;33m\u001b[0m\u001b[0m\n\u001b[0;32m     12\u001b[0m     \u001b[0mscore_easy\u001b[0m \u001b[1;33m=\u001b[0m \u001b[1;33m{\u001b[0m\u001b[1;33m}\u001b[0m\u001b[1;33m\u001b[0m\u001b[0m\n",
        "\u001b[1;32m/home/ubuntu/venv/src/scikit-learn/sklearn/decomposition/pca.pyc\u001b[0m in \u001b[0;36mfit_transform\u001b[1;34m(self, X, y)\u001b[0m\n\u001b[0;32m    236\u001b[0m \u001b[1;33m\u001b[0m\u001b[0m\n\u001b[0;32m    237\u001b[0m         \"\"\"\n\u001b[1;32m--> 238\u001b[1;33m         \u001b[0mU\u001b[0m\u001b[1;33m,\u001b[0m \u001b[0mS\u001b[0m\u001b[1;33m,\u001b[0m \u001b[0mV\u001b[0m \u001b[1;33m=\u001b[0m \u001b[0mself\u001b[0m\u001b[1;33m.\u001b[0m\u001b[0m_fit\u001b[0m\u001b[1;33m(\u001b[0m\u001b[0mX\u001b[0m\u001b[1;33m)\u001b[0m\u001b[1;33m\u001b[0m\u001b[0m\n\u001b[0m\u001b[0;32m    239\u001b[0m         \u001b[0mU\u001b[0m \u001b[1;33m=\u001b[0m \u001b[0mU\u001b[0m\u001b[1;33m[\u001b[0m\u001b[1;33m:\u001b[0m\u001b[1;33m,\u001b[0m \u001b[1;33m:\u001b[0m\u001b[0mself\u001b[0m\u001b[1;33m.\u001b[0m\u001b[0mn_components_\u001b[0m\u001b[1;33m]\u001b[0m\u001b[1;33m\u001b[0m\u001b[0m\n\u001b[0;32m    240\u001b[0m \u001b[1;33m\u001b[0m\u001b[0m\n",
        "\u001b[1;32m/home/ubuntu/venv/src/scikit-learn/sklearn/decomposition/pca.pyc\u001b[0m in \u001b[0;36m_fit\u001b[1;34m(self, X)\u001b[0m\n\u001b[0;32m    269\u001b[0m         \u001b[0mself\u001b[0m\u001b[1;33m.\u001b[0m\u001b[0mmean_\u001b[0m \u001b[1;33m=\u001b[0m \u001b[0mnp\u001b[0m\u001b[1;33m.\u001b[0m\u001b[0mmean\u001b[0m\u001b[1;33m(\u001b[0m\u001b[0mX\u001b[0m\u001b[1;33m,\u001b[0m \u001b[0maxis\u001b[0m\u001b[1;33m=\u001b[0m\u001b[1;36m0\u001b[0m\u001b[1;33m)\u001b[0m\u001b[1;33m\u001b[0m\u001b[0m\n\u001b[0;32m    270\u001b[0m         \u001b[0mX\u001b[0m \u001b[1;33m-=\u001b[0m \u001b[0mself\u001b[0m\u001b[1;33m.\u001b[0m\u001b[0mmean_\u001b[0m\u001b[1;33m\u001b[0m\u001b[0m\n\u001b[1;32m--> 271\u001b[1;33m         \u001b[0mU\u001b[0m\u001b[1;33m,\u001b[0m \u001b[0mS\u001b[0m\u001b[1;33m,\u001b[0m \u001b[0mV\u001b[0m \u001b[1;33m=\u001b[0m \u001b[0mlinalg\u001b[0m\u001b[1;33m.\u001b[0m\u001b[0msvd\u001b[0m\u001b[1;33m(\u001b[0m\u001b[0mX\u001b[0m\u001b[1;33m,\u001b[0m \u001b[0mfull_matrices\u001b[0m\u001b[1;33m=\u001b[0m\u001b[0mFalse\u001b[0m\u001b[1;33m)\u001b[0m\u001b[1;33m\u001b[0m\u001b[0m\n\u001b[0m\u001b[0;32m    272\u001b[0m         \u001b[0mexplained_variance_\u001b[0m \u001b[1;33m=\u001b[0m \u001b[1;33m(\u001b[0m\u001b[0mS\u001b[0m \u001b[1;33m**\u001b[0m \u001b[1;36m2\u001b[0m\u001b[1;33m)\u001b[0m \u001b[1;33m/\u001b[0m \u001b[0mn_samples\u001b[0m\u001b[1;33m\u001b[0m\u001b[0m\n\u001b[0;32m    273\u001b[0m         explained_variance_ratio_ = (explained_variance_ /\n",
        "\u001b[1;32m/home/ubuntu/venv/local/lib/python2.7/site-packages/scipy/linalg/decomp_svd.pyc\u001b[0m in \u001b[0;36msvd\u001b[1;34m(a, full_matrices, compute_uv, overwrite_a, check_finite)\u001b[0m\n\u001b[0;32m    104\u001b[0m     \u001b[1;31m# perform decomposition\u001b[0m\u001b[1;33m\u001b[0m\u001b[1;33m\u001b[0m\u001b[0m\n\u001b[0;32m    105\u001b[0m     u,s,v,info = gesdd(a1, compute_uv=compute_uv, lwork=lwork,\n\u001b[1;32m--> 106\u001b[1;33m                        full_matrices=full_matrices, overwrite_a=overwrite_a)\n\u001b[0m\u001b[0;32m    107\u001b[0m \u001b[1;33m\u001b[0m\u001b[0m\n\u001b[0;32m    108\u001b[0m     \u001b[1;32mif\u001b[0m \u001b[0minfo\u001b[0m \u001b[1;33m>\u001b[0m \u001b[1;36m0\u001b[0m\u001b[1;33m:\u001b[0m\u001b[1;33m\u001b[0m\u001b[0m\n",
        "\u001b[1;31mKeyboardInterrupt\u001b[0m: "
       ]
      }
     ],
     "prompt_number": 21
    },
    {
     "cell_type": "code",
     "collapsed": false,
     "input": [
      "def selection_features(X,pairs_idx,features_to_drop = [], dist_func=distance.braycurtis,mode = \"easy\"):\n",
      "    current_features = random.sample(range(X.shape[1]),X.shape[1])\n",
      "    dist = distances_pairs(X_train_facile, pairs_idx,dist_func)\n",
      "    score_facile , score_difficile = roc_report(pairs_label,dist,\"curtis\",False)\n",
      "    if mode == \"easy\":\n",
      "        current_score = score_facile\n",
      "    else:\n",
      "        current_score = score_difficile\n",
      "    \n",
      "    i=0\n",
      "    removed_features = 0 \n",
      "    while(i < len(current_features)):\n",
      "        feature_to_remove = current_features[i]\n",
      "        X_tmp = np.delete(X,feature_to_remove,1)\n",
      "        dist = distances_pairs(X_tmp, pairs_idx,dist_func)\n",
      "        score_facile , score_difficile = roc_report(pairs_label,dist,\"curtis\",False)\n",
      "        i+=1\n",
      "        \n",
      "        if mode == \"easy\":\n",
      "            if score_facile < current_score:\n",
      "                features_to_drop.append(feature_to_remove)\n",
      "                X = X_tmp\n",
      "                print X.shape\n",
      "                print X_tmp.shape\n",
      "                i = 0\n",
      "                removed_features+=1\n",
      "                print \"Removed_features : \" , removed_features\n",
      "                current_features = random.sample(range(X.shape[1]),X.shape[1])\n",
      "                current_score = score_facile\n",
      "\n",
      "        else:\n",
      "            if score_difficile < current_score:\n",
      "                features_to_drop.append(feature_to_remove)\n",
      "                X = X_tmp\n",
      "                i = 0\n",
      "                removed_features+=1\n",
      "                print \"Removed_features : \" , removed_features\n",
      "                current_features = random.sample(range(X.shape[1]),X.shape[1])\n",
      "                current_score = score_difficile\n",
      "        \n",
      "                \n",
      "    return features_to_drop"
     ],
     "language": "python",
     "metadata": {},
     "outputs": [],
     "prompt_number": 125
    },
    {
     "cell_type": "code",
     "collapsed": false,
     "input": [
      "features_to_drop2 = selection_features(X_train_facile,pairs_idx,[])"
     ],
     "language": "python",
     "metadata": {},
     "outputs": [
      {
       "output_type": "stream",
       "stream": "stdout",
       "text": [
        "(312022, 1499)\n",
        "(312022, 1499)\n",
        "Removed_features :  1\n",
        "(312022, 1498)"
       ]
      },
      {
       "output_type": "stream",
       "stream": "stdout",
       "text": [
        "\n",
        "(312022, 1498)\n",
        "Removed_features :  2\n"
       ]
      }
     ],
     "prompt_number": 120
    },
    {
     "cell_type": "code",
     "collapsed": false,
     "input": [
      "features_to_drop2"
     ],
     "language": "python",
     "metadata": {},
     "outputs": [
      {
       "metadata": {},
       "output_type": "pyout",
       "prompt_number": 122,
       "text": [
        "[333, 4]"
       ]
      }
     ],
     "prompt_number": 122
    },
    {
     "cell_type": "code",
     "collapsed": false,
     "input": [
      "X_train_hard, Y_train_hard = readfile('/dev/ML_AWS/data/data_train_difficile',test=False)\n",
      "\n",
      "X_train_hard = normalize(X_train_hard)\n",
      "pairs_idx_hard, pairs_label_hard = generate_pairs(Y_train_hard, 1000, 0.1)"
     ],
     "language": "python",
     "metadata": {},
     "outputs": []
    },
    {
     "cell_type": "code",
     "collapsed": false,
     "input": [
      "features_to_drop_hard = selection_features(X_train_hard,pairs_idx_hard,[], dist_func=distance.braycurtis,mode = \"hard\")"
     ],
     "language": "python",
     "metadata": {},
     "outputs": [
      {
       "output_type": "stream",
       "stream": "stdout",
       "text": [
        "Removed_features :  1\n",
        "Removed_features : "
       ]
      },
      {
       "output_type": "stream",
       "stream": "stdout",
       "text": [
        " 2\n",
        "Removed_features : "
       ]
      },
      {
       "output_type": "stream",
       "stream": "stdout",
       "text": [
        " 3\n",
        "Removed_features : "
       ]
      },
      {
       "output_type": "stream",
       "stream": "stdout",
       "text": [
        " 4\n",
        "Removed_features : "
       ]
      },
      {
       "output_type": "stream",
       "stream": "stdout",
       "text": [
        " 5\n",
        "Removed_features : "
       ]
      },
      {
       "output_type": "stream",
       "stream": "stdout",
       "text": [
        " 6\n",
        "Removed_features : "
       ]
      },
      {
       "output_type": "stream",
       "stream": "stdout",
       "text": [
        " 7\n",
        "Removed_features : "
       ]
      }
     ]
    },
    {
     "cell_type": "code",
     "collapsed": false,
     "input": [
      "features_to_drop = selection_features(X_train_facile,pairs_idx,[])"
     ],
     "language": "python",
     "metadata": {},
     "outputs": [
      {
       "output_type": "stream",
       "stream": "stdout",
       "text": [
        "Removed_features :  1\n",
        "Removed_features : "
       ]
      },
      {
       "output_type": "stream",
       "stream": "stdout",
       "text": [
        " 2\n"
       ]
      }
     ],
     "prompt_number": 110
    },
    {
     "cell_type": "code",
     "collapsed": false,
     "input": [
      "def distances_combinations(X,pairs_idx,distances = [(\"Cosine\",distance.cosine),\n",
      "                     (\"BrayCurtis\",distance.braycurtis),\n",
      "(\"Euclidean\",distance.euclidean),(\"Manhattan\",distance.cityblock),(\"Chebyshev\",distance.chebyshev),\n",
      "(\"Correlation\",distance.correlation) ], operations = [ +,*,/,- ]):\n",
      "    calculated_distances = [(name, distances_pairs(X, pairs_idx,dist_func[1])) for (name,dist_func) in distances]\n",
      "    "
     ],
     "language": "python",
     "metadata": {},
     "outputs": [
      {
       "ename": "SyntaxError",
       "evalue": "invalid syntax (<ipython-input-111-01778b398569>, line 4)",
       "output_type": "pyerr",
       "traceback": [
        "\u001b[1;36m  File \u001b[1;32m\"<ipython-input-111-01778b398569>\"\u001b[1;36m, line \u001b[1;32m4\u001b[0m\n\u001b[1;33m    (\"Correlation\",distance.correlation) ], operations = [ +,* ]):\u001b[0m\n\u001b[1;37m                                                            ^\u001b[0m\n\u001b[1;31mSyntaxError\u001b[0m\u001b[1;31m:\u001b[0m invalid syntax\n"
       ]
      }
     ],
     "prompt_number": 111
    },
    {
     "cell_type": "code",
     "collapsed": false,
     "input": [
      "features_to_drop_facile = features_to_drop"
     ],
     "language": "python",
     "metadata": {},
     "outputs": [
      {
       "metadata": {},
       "output_type": "pyout",
       "prompt_number": 121,
       "text": [
        "[374, 42]"
       ]
      }
     ],
     "prompt_number": 121
    }
   ],
   "metadata": {}
  }
 ]
}