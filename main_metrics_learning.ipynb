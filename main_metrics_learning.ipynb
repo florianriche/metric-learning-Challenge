{
 "metadata": {
  "name": "",
  "signature": "sha256:8cfbd76b5d0d4c245a5ddafdb23f8ea2d685e40e42a023e9549a09b5a3420f54"
 },
 "nbformat": 3,
 "nbformat_minor": 0,
 "worksheets": [
  {
   "cells": [
    {
     "cell_type": "code",
     "collapsed": false,
     "input": [
      "from sklearn import metrics\n",
      "import matplotlib.pyplot as plt\n",
      "from scipy import io\n",
      "import bisect\n",
      "import numpy as np\n",
      "from  sklearn.preprocessing import normalize\n",
      "from metric_learn import distances_pairs\n",
      "from scipy.spatial import distance\n",
      "import matplotlib.pyplot as plt\n",
      "import pandas as pd\n",
      "import numpy as np\n",
      "from sklearn.decomposition import PCA\n",
      "import numpy as np\n",
      "import random\n",
      "%matplotlib inline"
     ],
     "language": "python",
     "metadata": {},
     "outputs": [],
     "prompt_number": 1
    },
    {
     "cell_type": "code",
     "collapsed": false,
     "input": [
      "def readfile(file, test=True):\n",
      "    mat_file = io.loadmat(file)\n",
      "    X = mat_file['X']\n",
      "    if test:\n",
      "        Y = mat_file['pairs']\n",
      "    else:\n",
      "        Y = mat_file['label']\n",
      "    return X,Y\n",
      "\n",
      "\n",
      "def roc_report(pairs_label,dist,name,plot=True):\n",
      "    fpr, tpr, thresholds = metrics.roc_curve(pairs_label, -dist)\n",
      "    if plot:\n",
      "        plt.plot(fpr, tpr, label= name)\n",
      "        plt.plot([0, 1], [0, 1], 'k--')\n",
      "        plt.xlim([0.0, 1.0])\n",
      "        plt.ylim([0.0, 1.0])\n",
      "        plt.xlabel('False Positive Rate')\n",
      "        plt.ylabel('True Positive Rate')\n",
      "    score_facile = 1.0 - tpr[bisect.bisect(fpr, 0.001) - 1]\n",
      "    idx = (np.abs(fpr + tpr - 1.)).argmin()\n",
      "    score_difficile = (fpr[idx]+(1-tpr[idx]))/2\n",
      "    return score_facile,score_difficile\n",
      "\n",
      "def generate_pairs(label, n_pairs, positive_ratio, random_state=42):\n",
      "    \"\"\"Generate a set of pair indices\n",
      "    \n",
      "    Parameters\n",
      "    ----------\n",
      "    label : array, shape (n_samples, 1)\n",
      "        Label vector\n",
      "    n_pairs : int\n",
      "        Number of pairs to generate\n",
      "    positive_ratio : float\n",
      "        Positive to negative ratio for pairs\n",
      "    random_state : int\n",
      "        Random seed for reproducibility\n",
      "        \n",
      "    Output\n",
      "    ------\n",
      "    pairs_idx : array, shape (n_pairs, 2)\n",
      "        The indices for the set of pairs\n",
      "    label_pairs : array, shape (n_pairs, 1)\n",
      "        The pair labels (+1 or -1)\n",
      "    \"\"\"\n",
      "    rng = np.random.RandomState(random_state)\n",
      "    n_samples = label.shape[0]\n",
      "    pairs_idx = np.zeros((n_pairs, 2), dtype=int)\n",
      "    pairs_idx[:, 0] = rng.randint(0, n_samples, n_pairs)\n",
      "    rand_vec = rng.rand(n_pairs)\n",
      "    for i in range(n_pairs):\n",
      "        if rand_vec[i] <= positive_ratio:\n",
      "            idx_same = np.where(label == label[pairs_idx[i, 0]])[0]\n",
      "            idx2 = rng.randint(idx_same.shape[0])\n",
      "            pairs_idx[i, 1] = idx_same[idx2]\n",
      "        else:\n",
      "            idx_diff = np.where(label != label[pairs_idx[i, 0]])[0]\n",
      "            idx2 = rng.randint(idx_diff.shape[0])\n",
      "            pairs_idx[i, 1] = idx_diff[idx2]\n",
      "    pairs_label = 2.0 * (label[pairs_idx[:, 0]] == label[pairs_idx[:, 1]]) - 1.0\n",
      "    return pairs_idx, pairs_label"
     ],
     "language": "python",
     "metadata": {},
     "outputs": [],
     "prompt_number": 2
    },
    {
     "cell_type": "code",
     "collapsed": false,
     "input": [
      "def distances_pairs(X,pairs,dist_func, batch_size=10000):\n",
      "    n_pairs = pairs.shape[0]\n",
      "    dist = np.ones((n_pairs,), dtype=np.dtype(\"float32\"))\n",
      "    for a in range(0, n_pairs, batch_size):\n",
      "        b = min(a + batch_size, n_pairs)\n",
      "        dist[a:b] =  [dist_func(X[pairs[i,0],:],X[pairs[i,1],:]) for i in range(a,b)]\n",
      "    return dist\n",
      "    "
     ],
     "language": "python",
     "metadata": {},
     "outputs": [],
     "prompt_number": 3
    },
    {
     "cell_type": "code",
     "collapsed": false,
     "input": [
      "X_train_facile, Y_train_facile = readfile('/dev/ML_AWS/data/data_train_facile',test=False)\n",
      "\n",
      "X_train_facile = normalize(X_train_facile)\n",
      "pairs_idx, pairs_label = generate_pairs(Y_train_facile, 1000, 0.1)"
     ],
     "language": "python",
     "metadata": {},
     "outputs": [],
     "prompt_number": 29
    },
    {
     "cell_type": "code",
     "collapsed": false,
     "input": [
      "scores = []\n",
      "possible_distances =[(\"Cosine\",distance.cosine),\n",
      "                     (\"BrayCurtis\",distance.braycurtis),\n",
      "(\"Euclidean\",distance.euclidean),(\"Manhattan\",distance.cityblock),(\"Chebyshev\",distance.chebyshev),\n",
      "(\"Correlation\",distance.correlation) ]\n",
      "\n",
      "for (name,func) in possible_distances:\n",
      "    print name\n",
      "    dist = distances_pairs(X_train_facile, pairs_idx,func)\n",
      "    #print dist\n",
      "    score_facile , score_difficile = roc_report(pairs_label,dist,name)\n",
      "    scores.append((name,score_facile,score_difficile))\n",
      "\n",
      "scores = pd.DataFrame(scores,columns = [\"id\",\"facile\",\"difficile\"])\n",
      "plt.legend(loc='best')\n",
      "plt.show()\n",
      "scores.sort('facile')"
     ],
     "language": "python",
     "metadata": {},
     "outputs": [
      {
       "output_type": "stream",
       "stream": "stdout",
       "text": [
        "Cosine\n",
        "BrayCurtis"
       ]
      },
      {
       "output_type": "stream",
       "stream": "stdout",
       "text": [
        "\n",
        "Euclidean"
       ]
      },
      {
       "output_type": "stream",
       "stream": "stdout",
       "text": [
        "\n",
        "Manhattan"
       ]
      },
      {
       "output_type": "stream",
       "stream": "stdout",
       "text": [
        "\n",
        "Chebyshev"
       ]
      },
      {
       "output_type": "stream",
       "stream": "stdout",
       "text": [
        "\n",
        "Correlation"
       ]
      },
      {
       "output_type": "stream",
       "stream": "stdout",
       "text": [
        "\n"
       ]
      },
      {
       "metadata": {},
       "output_type": "display_data",
       "png": "[encoded data removed]",
       "text": [
        "<matplotlib.figure.Figure at 0x7fbc4824e750>"
       ]
      },
      {
       "html": [
        "<div style=\"max-height:1000px;max-width:1500px;overflow:auto;\">\n",
        "<table border=\"1\" class=\"dataframe\">\n",
        "  <thead>\n",
        "    <tr style=\"text-align: right;\">\n",
        "      <th></th>\n",
        "      <th>id</th>\n",
        "      <th>facile</th>\n",
        "      <th>difficile</th>\n",
        "    </tr>\n",
        "  </thead>\n",
        "  <tbody>\n",
        "    <tr>\n",
        "      <th>1</th>\n",
        "      <td>  BrayCurtis</td>\n",
        "      <td> 0.052523</td>\n",
        "      <td> 0.021612</td>\n",
        "    </tr>\n",
        "    <tr>\n",
        "      <th>0</th>\n",
        "      <td>      Cosine</td>\n",
        "      <td> 0.102987</td>\n",
        "      <td> 0.032980</td>\n",
        "    </tr>\n",
        "    <tr>\n",
        "      <th>2</th>\n",
        "      <td>   Euclidean</td>\n",
        "      <td> 0.102987</td>\n",
        "      <td> 0.032980</td>\n",
        "    </tr>\n",
        "    <tr>\n",
        "      <th>5</th>\n",
        "      <td> Correlation</td>\n",
        "      <td> 0.102987</td>\n",
        "      <td> 0.032980</td>\n",
        "    </tr>\n",
        "    <tr>\n",
        "      <th>3</th>\n",
        "      <td>   Manhattan</td>\n",
        "      <td> 0.143151</td>\n",
        "      <td> 0.047388</td>\n",
        "    </tr>\n",
        "    <tr>\n",
        "      <th>4</th>\n",
        "      <td>   Chebyshev</td>\n",
        "      <td> 0.260556</td>\n",
        "      <td> 0.100912</td>\n",
        "    </tr>\n",
        "  </tbody>\n",
        "</table>\n",
        "</div>"
       ],
       "metadata": {},
       "output_type": "pyout",
       "prompt_number": 30,
       "text": [
        "            id    facile  difficile\n",
        "1   BrayCurtis  0.052523   0.021612\n",
        "0       Cosine  0.102987   0.032980\n",
        "2    Euclidean  0.102987   0.032980\n",
        "5  Correlation  0.102987   0.032980\n",
        "3    Manhattan  0.143151   0.047388\n",
        "4    Chebyshev  0.260556   0.100912"
       ]
      }
     ],
     "prompt_number": 30
    },
    {
     "cell_type": "code",
     "collapsed": false,
     "input": [
      "number_features = range(10,1500,100)\n",
      "rng = np.random.RandomState(42)\n",
      "scores_nbFeatures_easy = []\n",
      "scores_nbFeatures_hard = []\n",
      "scores_PCA_easy = []\n",
      "scores_PCA_hard = []\n",
      "\n",
      "for nb_feature in number_features:\n",
      "    PCA_model = PCA(nb_feature)\n",
      "    X_tmp = PCA_model.fit_transform(X_train_facile)\n",
      "    print X_tmp.shape\n",
      "    score_easy = {}\n",
      "    score_hard = {}\n",
      "    for (name,func) in possible_distances:\n",
      "        dist = distances_pairs(X_tmp, pairs_idx,func)\n",
      "        score_facile , score_difficile = roc_report(pairs_label,dist,name,False)\n",
      "        score_easy[name] = score_facile\n",
      "        score_hard[name] = score_difficile\n",
      "    scores_PCA_easy.append(score_easy)\n",
      "    scores_PCA_hard.append(score_hard)\n",
      "    print pd.DataFrame(scores_PCA_easy)\n",
      "    \n"
     ],
     "language": "python",
     "metadata": {},
     "outputs": [
      {
       "output_type": "stream",
       "stream": "stdout",
       "text": [
        "(312022, 10)\n",
        "   BrayCurtis  Chebyshev  Correlation    Cosine  Euclidean  Manhattan\n",
        "0    0.265487   0.274336     0.274336  0.292035   0.265487   0.274336"
       ]
      },
      {
       "output_type": "stream",
       "stream": "stdout",
       "text": [
        "\n",
        "(312022, 110)"
       ]
      },
      {
       "output_type": "stream",
       "stream": "stdout",
       "text": [
        "\n",
        "   BrayCurtis  Chebyshev  Correlation    Cosine  Euclidean  Manhattan\n",
        "0    0.265487   0.274336     0.274336  0.292035   0.265487   0.274336\n",
        "1    0.185841   0.221239     0.212389  0.212389   0.185841   0.176991"
       ]
      },
      {
       "output_type": "stream",
       "stream": "stdout",
       "text": [
        "\n",
        "(312022, 210)"
       ]
      },
      {
       "output_type": "stream",
       "stream": "stdout",
       "text": [
        "\n",
        "   BrayCurtis  Chebyshev  Correlation    Cosine  Euclidean  Manhattan\n",
        "0    0.265487   0.274336     0.274336  0.292035   0.265487   0.274336\n",
        "1    0.185841   0.221239     0.212389  0.212389   0.185841   0.176991\n",
        "2    0.221239   0.221239     0.230088  0.230088   0.176991   0.168142"
       ]
      },
      {
       "output_type": "stream",
       "stream": "stdout",
       "text": [
        "\n",
        "(312022, 310)"
       ]
      },
      {
       "output_type": "stream",
       "stream": "stdout",
       "text": [
        "\n",
        "   BrayCurtis  Chebyshev  Correlation    Cosine  Euclidean  Manhattan\n",
        "0    0.265487   0.274336     0.274336  0.292035   0.265487   0.274336\n",
        "1    0.185841   0.221239     0.212389  0.212389   0.185841   0.176991\n",
        "2    0.221239   0.221239     0.230088  0.230088   0.176991   0.168142\n",
        "3    0.159292   0.221239     0.203540  0.203540   0.123894   0.115044"
       ]
      },
      {
       "output_type": "stream",
       "stream": "stdout",
       "text": [
        "\n",
        "(312022, 410)"
       ]
      },
      {
       "output_type": "stream",
       "stream": "stdout",
       "text": [
        "\n",
        "   BrayCurtis  Chebyshev  Correlation    Cosine  Euclidean  Manhattan\n",
        "0    0.265487   0.274336     0.274336  0.292035   0.265487   0.274336\n",
        "1    0.185841   0.221239     0.212389  0.212389   0.185841   0.176991\n",
        "2    0.221239   0.221239     0.230088  0.230088   0.176991   0.168142\n",
        "3    0.159292   0.221239     0.203540  0.203540   0.123894   0.115044\n",
        "4    0.132743   0.221239     0.185841  0.185841   0.115044   0.115044"
       ]
      },
      {
       "output_type": "stream",
       "stream": "stdout",
       "text": [
        "\n",
        "(312022, 510)"
       ]
      },
      {
       "output_type": "stream",
       "stream": "stdout",
       "text": [
        "\n",
        "   BrayCurtis  Chebyshev  Correlation    Cosine  Euclidean  Manhattan\n",
        "0    0.265487   0.274336     0.274336  0.292035   0.265487   0.274336\n",
        "1    0.185841   0.221239     0.212389  0.212389   0.185841   0.176991\n",
        "2    0.221239   0.221239     0.230088  0.230088   0.176991   0.168142\n",
        "3    0.159292   0.221239     0.203540  0.203540   0.123894   0.115044\n",
        "4    0.132743   0.221239     0.185841  0.185841   0.115044   0.115044\n",
        "5    0.123894   0.221239     0.185841  0.185841   0.123894   0.132743"
       ]
      },
      {
       "output_type": "stream",
       "stream": "stdout",
       "text": [
        "\n",
        "(312022, 610)"
       ]
      },
      {
       "output_type": "stream",
       "stream": "stdout",
       "text": [
        "\n",
        "   BrayCurtis  Chebyshev  Correlation    Cosine  Euclidean  Manhattan\n",
        "0    0.265487   0.274336     0.274336  0.292035   0.265487   0.274336\n",
        "1    0.185841   0.221239     0.212389  0.212389   0.185841   0.176991\n",
        "2    0.221239   0.221239     0.230088  0.230088   0.176991   0.168142\n",
        "3    0.159292   0.221239     0.203540  0.203540   0.123894   0.115044\n",
        "4    0.132743   0.221239     0.185841  0.185841   0.115044   0.115044\n",
        "5    0.123894   0.221239     0.185841  0.185841   0.123894   0.132743\n",
        "6    0.123894   0.221239     0.176991  0.176991   0.141593   0.132743"
       ]
      },
      {
       "output_type": "stream",
       "stream": "stdout",
       "text": [
        "\n",
        "(312022, 710)"
       ]
      },
      {
       "output_type": "stream",
       "stream": "stdout",
       "text": [
        "\n",
        "   BrayCurtis  Chebyshev  Correlation    Cosine  Euclidean  Manhattan\n",
        "0    0.265487   0.274336     0.274336  0.292035   0.265487   0.274336\n",
        "1    0.185841   0.221239     0.212389  0.212389   0.185841   0.176991\n",
        "2    0.221239   0.221239     0.230088  0.230088   0.176991   0.168142\n",
        "3    0.159292   0.221239     0.203540  0.203540   0.123894   0.115044\n",
        "4    0.132743   0.221239     0.185841  0.185841   0.115044   0.115044\n",
        "5    0.123894   0.221239     0.185841  0.185841   0.123894   0.132743\n",
        "6    0.123894   0.221239     0.176991  0.176991   0.141593   0.132743\n",
        "7    0.123894   0.221239     0.176991  0.176991   0.132743   0.123894"
       ]
      },
      {
       "output_type": "stream",
       "stream": "stdout",
       "text": [
        "\n",
        "(312022, 810)"
       ]
      },
      {
       "output_type": "stream",
       "stream": "stdout",
       "text": [
        "\n",
        "   BrayCurtis  Chebyshev  Correlation    Cosine  Euclidean  Manhattan\n",
        "0    0.265487   0.274336     0.274336  0.292035   0.265487   0.274336\n",
        "1    0.185841   0.221239     0.212389  0.212389   0.185841   0.176991\n",
        "2    0.221239   0.221239     0.230088  0.230088   0.176991   0.168142\n",
        "3    0.159292   0.221239     0.203540  0.203540   0.123894   0.115044\n",
        "4    0.132743   0.221239     0.185841  0.185841   0.115044   0.115044\n",
        "5    0.123894   0.221239     0.185841  0.185841   0.123894   0.132743\n",
        "6    0.123894   0.221239     0.176991  0.176991   0.141593   0.132743\n",
        "7    0.123894   0.221239     0.176991  0.176991   0.132743   0.123894\n",
        "8    0.097345   0.221239     0.168142  0.168142   0.132743   0.132743"
       ]
      },
      {
       "output_type": "stream",
       "stream": "stdout",
       "text": [
        "\n",
        "(312022, 910)"
       ]
      },
      {
       "output_type": "stream",
       "stream": "stdout",
       "text": [
        "\n",
        "   BrayCurtis  Chebyshev  Correlation    Cosine  Euclidean  Manhattan\n",
        "0    0.265487   0.274336     0.274336  0.292035   0.265487   0.274336\n",
        "1    0.185841   0.221239     0.212389  0.212389   0.185841   0.176991\n",
        "2    0.221239   0.221239     0.230088  0.230088   0.176991   0.168142\n",
        "3    0.159292   0.221239     0.203540  0.203540   0.123894   0.115044\n",
        "4    0.132743   0.221239     0.185841  0.185841   0.115044   0.115044\n",
        "5    0.123894   0.221239     0.185841  0.185841   0.123894   0.132743\n",
        "6    0.123894   0.221239     0.176991  0.176991   0.141593   0.132743\n",
        "7    0.123894   0.221239     0.176991  0.176991   0.132743   0.123894\n",
        "8    0.097345   0.221239     0.168142  0.168142   0.132743   0.132743\n",
        "9    0.115044   0.221239     0.168142  0.168142   0.141593   0.141593"
       ]
      },
      {
       "output_type": "stream",
       "stream": "stdout",
       "text": [
        "\n",
        "(312022, 1010)"
       ]
      },
      {
       "output_type": "stream",
       "stream": "stdout",
       "text": [
        "\n",
        "    BrayCurtis  Chebyshev  Correlation    Cosine  Euclidean  Manhattan\n",
        "0     0.265487   0.274336     0.274336  0.292035   0.265487   0.274336\n",
        "1     0.185841   0.221239     0.212389  0.212389   0.185841   0.176991\n",
        "2     0.221239   0.221239     0.230088  0.230088   0.176991   0.168142\n",
        "3     0.159292   0.221239     0.203540  0.203540   0.123894   0.115044\n",
        "4     0.132743   0.221239     0.185841  0.185841   0.115044   0.115044\n",
        "5     0.123894   0.221239     0.185841  0.185841   0.123894   0.132743\n",
        "6     0.123894   0.221239     0.176991  0.176991   0.141593   0.132743\n",
        "7     0.123894   0.221239     0.176991  0.176991   0.132743   0.123894\n",
        "8     0.097345   0.221239     0.168142  0.168142   0.132743   0.132743\n",
        "9     0.115044   0.221239     0.168142  0.168142   0.141593   0.141593\n",
        "10    0.106195   0.221239     0.168142  0.168142   0.132743   0.132743"
       ]
      },
      {
       "output_type": "stream",
       "stream": "stdout",
       "text": [
        "\n",
        "(312022, 1110)"
       ]
      },
      {
       "output_type": "stream",
       "stream": "stdout",
       "text": [
        "\n",
        "    BrayCurtis  Chebyshev  Correlation    Cosine  Euclidean  Manhattan\n",
        "0     0.265487   0.274336     0.274336  0.292035   0.265487   0.274336\n",
        "1     0.185841   0.221239     0.212389  0.212389   0.185841   0.176991\n",
        "2     0.221239   0.221239     0.230088  0.230088   0.176991   0.168142\n",
        "3     0.159292   0.221239     0.203540  0.203540   0.123894   0.115044\n",
        "4     0.132743   0.221239     0.185841  0.185841   0.115044   0.115044\n",
        "5     0.123894   0.221239     0.185841  0.185841   0.123894   0.132743\n",
        "6     0.123894   0.221239     0.176991  0.176991   0.141593   0.132743\n",
        "7     0.123894   0.221239     0.176991  0.176991   0.132743   0.123894\n",
        "8     0.097345   0.221239     0.168142  0.168142   0.132743   0.132743\n",
        "9     0.115044   0.221239     0.168142  0.168142   0.141593   0.141593\n",
        "10    0.106195   0.221239     0.168142  0.168142   0.132743   0.132743\n",
        "11    0.097345   0.221239     0.168142  0.168142   0.132743   0.132743"
       ]
      },
      {
       "output_type": "stream",
       "stream": "stdout",
       "text": [
        "\n",
        "(312022, 1210)"
       ]
      },
      {
       "output_type": "stream",
       "stream": "stdout",
       "text": [
        "\n",
        "    BrayCurtis  Chebyshev  Correlation    Cosine  Euclidean  Manhattan\n",
        "0     0.265487   0.274336     0.274336  0.292035   0.265487   0.274336\n",
        "1     0.185841   0.221239     0.212389  0.212389   0.185841   0.176991\n",
        "2     0.221239   0.221239     0.230088  0.230088   0.176991   0.168142\n",
        "3     0.159292   0.221239     0.203540  0.203540   0.123894   0.115044\n",
        "4     0.132743   0.221239     0.185841  0.185841   0.115044   0.115044\n",
        "5     0.123894   0.221239     0.185841  0.185841   0.123894   0.132743\n",
        "6     0.123894   0.221239     0.176991  0.176991   0.141593   0.132743\n",
        "7     0.123894   0.221239     0.176991  0.176991   0.132743   0.123894\n",
        "8     0.097345   0.221239     0.168142  0.168142   0.132743   0.132743\n",
        "9     0.115044   0.221239     0.168142  0.168142   0.141593   0.141593\n",
        "10    0.106195   0.221239     0.168142  0.168142   0.132743   0.132743\n",
        "11    0.097345   0.221239     0.168142  0.168142   0.132743   0.132743\n",
        "12    0.079646   0.221239     0.168142  0.168142   0.132743   0.141593"
       ]
      },
      {
       "output_type": "stream",
       "stream": "stdout",
       "text": [
        "\n",
        "(312022, 1310)"
       ]
      },
      {
       "output_type": "stream",
       "stream": "stdout",
       "text": [
        "\n",
        "    BrayCurtis  Chebyshev  Correlation    Cosine  Euclidean  Manhattan\n",
        "0     0.265487   0.274336     0.274336  0.292035   0.265487   0.274336\n",
        "1     0.185841   0.221239     0.212389  0.212389   0.185841   0.176991\n",
        "2     0.221239   0.221239     0.230088  0.230088   0.176991   0.168142\n",
        "3     0.159292   0.221239     0.203540  0.203540   0.123894   0.115044\n",
        "4     0.132743   0.221239     0.185841  0.185841   0.115044   0.115044\n",
        "5     0.123894   0.221239     0.185841  0.185841   0.123894   0.132743\n",
        "6     0.123894   0.221239     0.176991  0.176991   0.141593   0.132743\n",
        "7     0.123894   0.221239     0.176991  0.176991   0.132743   0.123894\n",
        "8     0.097345   0.221239     0.168142  0.168142   0.132743   0.132743\n",
        "9     0.115044   0.221239     0.168142  0.168142   0.141593   0.141593\n",
        "10    0.106195   0.221239     0.168142  0.168142   0.132743   0.132743\n",
        "11    0.097345   0.221239     0.168142  0.168142   0.132743   0.132743\n",
        "12    0.079646   0.221239     0.168142  0.168142   0.132743   0.141593\n",
        "13    0.079646   0.221239     0.168142  0.168142   0.141593   0.141593"
       ]
      },
      {
       "output_type": "stream",
       "stream": "stdout",
       "text": [
        "\n",
        "(312022, 1410)"
       ]
      },
      {
       "output_type": "stream",
       "stream": "stdout",
       "text": [
        "\n",
        "    BrayCurtis  Chebyshev  Correlation    Cosine  Euclidean  Manhattan\n",
        "0     0.265487   0.274336     0.274336  0.292035   0.265487   0.274336\n",
        "1     0.185841   0.221239     0.212389  0.212389   0.185841   0.176991\n",
        "2     0.221239   0.221239     0.230088  0.230088   0.176991   0.168142\n",
        "3     0.159292   0.221239     0.203540  0.203540   0.123894   0.115044\n",
        "4     0.132743   0.221239     0.185841  0.185841   0.115044   0.115044\n",
        "5     0.123894   0.221239     0.185841  0.185841   0.123894   0.132743\n",
        "6     0.123894   0.221239     0.176991  0.176991   0.141593   0.132743\n",
        "7     0.123894   0.221239     0.176991  0.176991   0.132743   0.123894\n",
        "8     0.097345   0.221239     0.168142  0.168142   0.132743   0.132743\n",
        "9     0.115044   0.221239     0.168142  0.168142   0.141593   0.141593\n",
        "10    0.106195   0.221239     0.168142  0.168142   0.132743   0.132743\n",
        "11    0.097345   0.221239     0.168142  0.168142   0.132743   0.132743\n",
        "12    0.079646   0.221239     0.168142  0.168142   0.132743   0.141593\n",
        "13    0.079646   0.221239     0.168142  0.168142   0.141593   0.141593\n",
        "14    0.070796   0.221239     0.168142  0.168142   0.150442   0.150442"
       ]
      },
      {
       "output_type": "stream",
       "stream": "stdout",
       "text": [
        "\n"
       ]
      },
      {
       "ename": "TypeError",
       "evalue": "float() argument must be a string or a number",
       "output_type": "pyerr",
       "traceback": [
        "\u001b[1;31m---------------------------------------------------------------------------\u001b[0m\n\u001b[1;31mTypeError\u001b[0m                                 Traceback (most recent call last)",
        "\u001b[1;32m<ipython-input-7-0f56148dc157>\u001b[0m in \u001b[0;36m<module>\u001b[1;34m()\u001b[0m\n\u001b[0;32m     21\u001b[0m     \u001b[1;32mprint\u001b[0m \u001b[0mpd\u001b[0m\u001b[1;33m.\u001b[0m\u001b[0mDataFrame\u001b[0m\u001b[1;33m(\u001b[0m\u001b[0mscores_PCA_easy\u001b[0m\u001b[1;33m)\u001b[0m\u001b[1;33m\u001b[0m\u001b[0m\n\u001b[0;32m     22\u001b[0m \u001b[1;33m\u001b[0m\u001b[0m\n\u001b[1;32m---> 23\u001b[1;33m \u001b[0mplt\u001b[0m\u001b[1;33m.\u001b[0m\u001b[0mplot\u001b[0m\u001b[1;33m(\u001b[0m\u001b[0mscores_PCA_easy\u001b[0m\u001b[1;33m,\u001b[0m\u001b[0mlabel\u001b[0m\u001b[1;33m=\u001b[0m\u001b[1;34m'score facile'\u001b[0m\u001b[1;33m)\u001b[0m\u001b[1;33m\u001b[0m\u001b[0m\n\u001b[0m\u001b[0;32m     24\u001b[0m \u001b[0mplt\u001b[0m\u001b[1;33m.\u001b[0m\u001b[0mplot\u001b[0m\u001b[1;33m(\u001b[0m\u001b[0mscores_PCA_hard\u001b[0m\u001b[1;33m,\u001b[0m\u001b[0mlabel\u001b[0m\u001b[1;33m=\u001b[0m\u001b[1;34m'score difficile'\u001b[0m\u001b[1;33m)\u001b[0m\u001b[1;33m\u001b[0m\u001b[0m\n\u001b[0;32m     25\u001b[0m \u001b[0mplt\u001b[0m\u001b[1;33m.\u001b[0m\u001b[0mlegend\u001b[0m\u001b[1;33m(\u001b[0m\u001b[0mloc\u001b[0m\u001b[1;33m=\u001b[0m\u001b[1;34m'best'\u001b[0m\u001b[1;33m)\u001b[0m\u001b[1;33m\u001b[0m\u001b[0m\n",
        "\u001b[1;32m/home/ubuntu/venv/local/lib/python2.7/site-packages/matplotlib/pyplot.pyc\u001b[0m in \u001b[0;36mplot\u001b[1;34m(*args, **kwargs)\u001b[0m\n\u001b[0;32m   3097\u001b[0m         \u001b[0max\u001b[0m\u001b[1;33m.\u001b[0m\u001b[0mhold\u001b[0m\u001b[1;33m(\u001b[0m\u001b[0mhold\u001b[0m\u001b[1;33m)\u001b[0m\u001b[1;33m\u001b[0m\u001b[0m\n\u001b[0;32m   3098\u001b[0m     \u001b[1;32mtry\u001b[0m\u001b[1;33m:\u001b[0m\u001b[1;33m\u001b[0m\u001b[0m\n\u001b[1;32m-> 3099\u001b[1;33m         \u001b[0mret\u001b[0m \u001b[1;33m=\u001b[0m \u001b[0max\u001b[0m\u001b[1;33m.\u001b[0m\u001b[0mplot\u001b[0m\u001b[1;33m(\u001b[0m\u001b[1;33m*\u001b[0m\u001b[0margs\u001b[0m\u001b[1;33m,\u001b[0m \u001b[1;33m**\u001b[0m\u001b[0mkwargs\u001b[0m\u001b[1;33m)\u001b[0m\u001b[1;33m\u001b[0m\u001b[0m\n\u001b[0m\u001b[0;32m   3100\u001b[0m         \u001b[0mdraw_if_interactive\u001b[0m\u001b[1;33m(\u001b[0m\u001b[1;33m)\u001b[0m\u001b[1;33m\u001b[0m\u001b[0m\n\u001b[0;32m   3101\u001b[0m     \u001b[1;32mfinally\u001b[0m\u001b[1;33m:\u001b[0m\u001b[1;33m\u001b[0m\u001b[0m\n",
        "\u001b[1;32m/home/ubuntu/venv/local/lib/python2.7/site-packages/matplotlib/axes/_axes.pyc\u001b[0m in \u001b[0;36mplot\u001b[1;34m(self, *args, **kwargs)\u001b[0m\n\u001b[0;32m   1372\u001b[0m \u001b[1;33m\u001b[0m\u001b[0m\n\u001b[0;32m   1373\u001b[0m         \u001b[1;32mfor\u001b[0m \u001b[0mline\u001b[0m \u001b[1;32min\u001b[0m \u001b[0mself\u001b[0m\u001b[1;33m.\u001b[0m\u001b[0m_get_lines\u001b[0m\u001b[1;33m(\u001b[0m\u001b[1;33m*\u001b[0m\u001b[0margs\u001b[0m\u001b[1;33m,\u001b[0m \u001b[1;33m**\u001b[0m\u001b[0mkwargs\u001b[0m\u001b[1;33m)\u001b[0m\u001b[1;33m:\u001b[0m\u001b[1;33m\u001b[0m\u001b[0m\n\u001b[1;32m-> 1374\u001b[1;33m             \u001b[0mself\u001b[0m\u001b[1;33m.\u001b[0m\u001b[0madd_line\u001b[0m\u001b[1;33m(\u001b[0m\u001b[0mline\u001b[0m\u001b[1;33m)\u001b[0m\u001b[1;33m\u001b[0m\u001b[0m\n\u001b[0m\u001b[0;32m   1375\u001b[0m             \u001b[0mlines\u001b[0m\u001b[1;33m.\u001b[0m\u001b[0mappend\u001b[0m\u001b[1;33m(\u001b[0m\u001b[0mline\u001b[0m\u001b[1;33m)\u001b[0m\u001b[1;33m\u001b[0m\u001b[0m\n\u001b[0;32m   1376\u001b[0m \u001b[1;33m\u001b[0m\u001b[0m\n",
        "\u001b[1;32m/home/ubuntu/venv/local/lib/python2.7/site-packages/matplotlib/axes/_base.pyc\u001b[0m in \u001b[0;36madd_line\u001b[1;34m(self, line)\u001b[0m\n\u001b[0;32m   1502\u001b[0m             \u001b[0mline\u001b[0m\u001b[1;33m.\u001b[0m\u001b[0mset_clip_path\u001b[0m\u001b[1;33m(\u001b[0m\u001b[0mself\u001b[0m\u001b[1;33m.\u001b[0m\u001b[0mpatch\u001b[0m\u001b[1;33m)\u001b[0m\u001b[1;33m\u001b[0m\u001b[0m\n\u001b[0;32m   1503\u001b[0m \u001b[1;33m\u001b[0m\u001b[0m\n\u001b[1;32m-> 1504\u001b[1;33m         \u001b[0mself\u001b[0m\u001b[1;33m.\u001b[0m\u001b[0m_update_line_limits\u001b[0m\u001b[1;33m(\u001b[0m\u001b[0mline\u001b[0m\u001b[1;33m)\u001b[0m\u001b[1;33m\u001b[0m\u001b[0m\n\u001b[0m\u001b[0;32m   1505\u001b[0m         \u001b[1;32mif\u001b[0m \u001b[1;32mnot\u001b[0m \u001b[0mline\u001b[0m\u001b[1;33m.\u001b[0m\u001b[0mget_label\u001b[0m\u001b[1;33m(\u001b[0m\u001b[1;33m)\u001b[0m\u001b[1;33m:\u001b[0m\u001b[1;33m\u001b[0m\u001b[0m\n\u001b[0;32m   1506\u001b[0m             \u001b[0mline\u001b[0m\u001b[1;33m.\u001b[0m\u001b[0mset_label\u001b[0m\u001b[1;33m(\u001b[0m\u001b[1;34m'_line%d'\u001b[0m \u001b[1;33m%\u001b[0m \u001b[0mlen\u001b[0m\u001b[1;33m(\u001b[0m\u001b[0mself\u001b[0m\u001b[1;33m.\u001b[0m\u001b[0mlines\u001b[0m\u001b[1;33m)\u001b[0m\u001b[1;33m)\u001b[0m\u001b[1;33m\u001b[0m\u001b[0m\n",
        "\u001b[1;32m/home/ubuntu/venv/local/lib/python2.7/site-packages/matplotlib/axes/_base.pyc\u001b[0m in \u001b[0;36m_update_line_limits\u001b[1;34m(self, line)\u001b[0m\n\u001b[0;32m   1513\u001b[0m         \u001b[0mFigures\u001b[0m \u001b[0mout\u001b[0m \u001b[0mthe\u001b[0m \u001b[0mdata\u001b[0m \u001b[0mlimit\u001b[0m \u001b[0mof\u001b[0m \u001b[0mthe\u001b[0m \u001b[0mgiven\u001b[0m \u001b[0mline\u001b[0m\u001b[1;33m,\u001b[0m \u001b[0mupdating\u001b[0m \u001b[0mself\u001b[0m\u001b[1;33m.\u001b[0m\u001b[0mdataLim\u001b[0m\u001b[1;33m.\u001b[0m\u001b[1;33m\u001b[0m\u001b[0m\n\u001b[0;32m   1514\u001b[0m         \"\"\"\n\u001b[1;32m-> 1515\u001b[1;33m         \u001b[0mpath\u001b[0m \u001b[1;33m=\u001b[0m \u001b[0mline\u001b[0m\u001b[1;33m.\u001b[0m\u001b[0mget_path\u001b[0m\u001b[1;33m(\u001b[0m\u001b[1;33m)\u001b[0m\u001b[1;33m\u001b[0m\u001b[0m\n\u001b[0m\u001b[0;32m   1516\u001b[0m         \u001b[1;32mif\u001b[0m \u001b[0mpath\u001b[0m\u001b[1;33m.\u001b[0m\u001b[0mvertices\u001b[0m\u001b[1;33m.\u001b[0m\u001b[0msize\u001b[0m \u001b[1;33m==\u001b[0m \u001b[1;36m0\u001b[0m\u001b[1;33m:\u001b[0m\u001b[1;33m\u001b[0m\u001b[0m\n\u001b[0;32m   1517\u001b[0m             \u001b[1;32mreturn\u001b[0m\u001b[1;33m\u001b[0m\u001b[0m\n",
        "\u001b[1;32m/home/ubuntu/venv/local/lib/python2.7/site-packages/matplotlib/lines.pyc\u001b[0m in \u001b[0;36mget_path\u001b[1;34m(self)\u001b[0m\n\u001b[0;32m    872\u001b[0m         \"\"\"\n\u001b[0;32m    873\u001b[0m         \u001b[1;32mif\u001b[0m \u001b[0mself\u001b[0m\u001b[1;33m.\u001b[0m\u001b[0m_invalidy\u001b[0m \u001b[1;32mor\u001b[0m \u001b[0mself\u001b[0m\u001b[1;33m.\u001b[0m\u001b[0m_invalidx\u001b[0m\u001b[1;33m:\u001b[0m\u001b[1;33m\u001b[0m\u001b[0m\n\u001b[1;32m--> 874\u001b[1;33m             \u001b[0mself\u001b[0m\u001b[1;33m.\u001b[0m\u001b[0mrecache\u001b[0m\u001b[1;33m(\u001b[0m\u001b[1;33m)\u001b[0m\u001b[1;33m\u001b[0m\u001b[0m\n\u001b[0m\u001b[0;32m    875\u001b[0m         \u001b[1;32mreturn\u001b[0m \u001b[0mself\u001b[0m\u001b[1;33m.\u001b[0m\u001b[0m_path\u001b[0m\u001b[1;33m\u001b[0m\u001b[0m\n\u001b[0;32m    876\u001b[0m \u001b[1;33m\u001b[0m\u001b[0m\n",
        "\u001b[1;32m/home/ubuntu/venv/local/lib/python2.7/site-packages/matplotlib/lines.pyc\u001b[0m in \u001b[0;36mrecache\u001b[1;34m(self, always)\u001b[0m\n\u001b[0;32m    582\u001b[0m                 \u001b[0my\u001b[0m \u001b[1;33m=\u001b[0m \u001b[0mma\u001b[0m\u001b[1;33m.\u001b[0m\u001b[0masarray\u001b[0m\u001b[1;33m(\u001b[0m\u001b[0myconv\u001b[0m\u001b[1;33m,\u001b[0m \u001b[0mnp\u001b[0m\u001b[1;33m.\u001b[0m\u001b[0mfloat_\u001b[0m\u001b[1;33m)\u001b[0m\u001b[1;33m\u001b[0m\u001b[0m\n\u001b[0;32m    583\u001b[0m             \u001b[1;32melse\u001b[0m\u001b[1;33m:\u001b[0m\u001b[1;33m\u001b[0m\u001b[0m\n\u001b[1;32m--> 584\u001b[1;33m                 \u001b[0my\u001b[0m \u001b[1;33m=\u001b[0m \u001b[0mnp\u001b[0m\u001b[1;33m.\u001b[0m\u001b[0masarray\u001b[0m\u001b[1;33m(\u001b[0m\u001b[0myconv\u001b[0m\u001b[1;33m,\u001b[0m \u001b[0mnp\u001b[0m\u001b[1;33m.\u001b[0m\u001b[0mfloat_\u001b[0m\u001b[1;33m)\u001b[0m\u001b[1;33m\u001b[0m\u001b[0m\n\u001b[0m\u001b[0;32m    585\u001b[0m             \u001b[0my\u001b[0m \u001b[1;33m=\u001b[0m \u001b[0my\u001b[0m\u001b[1;33m.\u001b[0m\u001b[0mravel\u001b[0m\u001b[1;33m(\u001b[0m\u001b[1;33m)\u001b[0m\u001b[1;33m\u001b[0m\u001b[0m\n\u001b[0;32m    586\u001b[0m         \u001b[1;32melse\u001b[0m\u001b[1;33m:\u001b[0m\u001b[1;33m\u001b[0m\u001b[0m\n",
        "\u001b[1;32m/home/ubuntu/venv/local/lib/python2.7/site-packages/numpy/core/numeric.pyc\u001b[0m in \u001b[0;36masarray\u001b[1;34m(a, dtype, order)\u001b[0m\n\u001b[0;32m    460\u001b[0m \u001b[1;33m\u001b[0m\u001b[0m\n\u001b[0;32m    461\u001b[0m     \"\"\"\n\u001b[1;32m--> 462\u001b[1;33m     \u001b[1;32mreturn\u001b[0m \u001b[0marray\u001b[0m\u001b[1;33m(\u001b[0m\u001b[0ma\u001b[0m\u001b[1;33m,\u001b[0m \u001b[0mdtype\u001b[0m\u001b[1;33m,\u001b[0m \u001b[0mcopy\u001b[0m\u001b[1;33m=\u001b[0m\u001b[0mFalse\u001b[0m\u001b[1;33m,\u001b[0m \u001b[0morder\u001b[0m\u001b[1;33m=\u001b[0m\u001b[0morder\u001b[0m\u001b[1;33m)\u001b[0m\u001b[1;33m\u001b[0m\u001b[0m\n\u001b[0m\u001b[0;32m    463\u001b[0m \u001b[1;33m\u001b[0m\u001b[0m\n\u001b[0;32m    464\u001b[0m \u001b[1;32mdef\u001b[0m \u001b[0masanyarray\u001b[0m\u001b[1;33m(\u001b[0m\u001b[0ma\u001b[0m\u001b[1;33m,\u001b[0m \u001b[0mdtype\u001b[0m\u001b[1;33m=\u001b[0m\u001b[0mNone\u001b[0m\u001b[1;33m,\u001b[0m \u001b[0morder\u001b[0m\u001b[1;33m=\u001b[0m\u001b[0mNone\u001b[0m\u001b[1;33m)\u001b[0m\u001b[1;33m:\u001b[0m\u001b[1;33m\u001b[0m\u001b[0m\n",
        "\u001b[1;31mTypeError\u001b[0m: float() argument must be a string or a number"
       ]
      },
      {
       "metadata": {},
       "output_type": "display_data",
       "png": "[encoded data removed]",
       "text": [
        "<matplotlib.figure.Figure at 0x7fbc48d89610>"
       ]
      }
     ],
     "prompt_number": 7
    },
    {
     "cell_type": "code",
     "collapsed": false,
     "input": [
      "scores_PCA_easy_pd"
     ],
     "language": "python",
     "metadata": {},
     "outputs": [
      {
       "html": [
        "<div style=\"max-height:1000px;max-width:1500px;overflow:auto;\">\n",
        "<table border=\"1\" class=\"dataframe\">\n",
        "  <thead>\n",
        "    <tr style=\"text-align: right;\">\n",
        "      <th></th>\n",
        "      <th>BrayCurtis</th>\n",
        "      <th>Chebyshev</th>\n",
        "      <th>Correlation</th>\n",
        "      <th>Cosine</th>\n",
        "      <th>Euclidean</th>\n",
        "      <th>Manhattan</th>\n",
        "    </tr>\n",
        "  </thead>\n",
        "  <tbody>\n",
        "    <tr>\n",
        "      <th>0 </th>\n",
        "      <td> 0.265487</td>\n",
        "      <td> 0.274336</td>\n",
        "      <td> 0.274336</td>\n",
        "      <td> 0.292035</td>\n",
        "      <td> 0.265487</td>\n",
        "      <td> 0.274336</td>\n",
        "    </tr>\n",
        "    <tr>\n",
        "      <th>1 </th>\n",
        "      <td> 0.185841</td>\n",
        "      <td> 0.221239</td>\n",
        "      <td> 0.212389</td>\n",
        "      <td> 0.212389</td>\n",
        "      <td> 0.185841</td>\n",
        "      <td> 0.176991</td>\n",
        "    </tr>\n",
        "    <tr>\n",
        "      <th>2 </th>\n",
        "      <td> 0.221239</td>\n",
        "      <td> 0.221239</td>\n",
        "      <td> 0.230088</td>\n",
        "      <td> 0.230088</td>\n",
        "      <td> 0.176991</td>\n",
        "      <td> 0.168142</td>\n",
        "    </tr>\n",
        "    <tr>\n",
        "      <th>3 </th>\n",
        "      <td> 0.159292</td>\n",
        "      <td> 0.221239</td>\n",
        "      <td> 0.203540</td>\n",
        "      <td> 0.203540</td>\n",
        "      <td> 0.123894</td>\n",
        "      <td> 0.115044</td>\n",
        "    </tr>\n",
        "    <tr>\n",
        "      <th>4 </th>\n",
        "      <td> 0.132743</td>\n",
        "      <td> 0.221239</td>\n",
        "      <td> 0.185841</td>\n",
        "      <td> 0.185841</td>\n",
        "      <td> 0.115044</td>\n",
        "      <td> 0.115044</td>\n",
        "    </tr>\n",
        "    <tr>\n",
        "      <th>5 </th>\n",
        "      <td> 0.123894</td>\n",
        "      <td> 0.221239</td>\n",
        "      <td> 0.185841</td>\n",
        "      <td> 0.185841</td>\n",
        "      <td> 0.123894</td>\n",
        "      <td> 0.132743</td>\n",
        "    </tr>\n",
        "    <tr>\n",
        "      <th>6 </th>\n",
        "      <td> 0.123894</td>\n",
        "      <td> 0.221239</td>\n",
        "      <td> 0.176991</td>\n",
        "      <td> 0.176991</td>\n",
        "      <td> 0.141593</td>\n",
        "      <td> 0.132743</td>\n",
        "    </tr>\n",
        "    <tr>\n",
        "      <th>7 </th>\n",
        "      <td> 0.123894</td>\n",
        "      <td> 0.221239</td>\n",
        "      <td> 0.176991</td>\n",
        "      <td> 0.176991</td>\n",
        "      <td> 0.132743</td>\n",
        "      <td> 0.123894</td>\n",
        "    </tr>\n",
        "    <tr>\n",
        "      <th>8 </th>\n",
        "      <td> 0.097345</td>\n",
        "      <td> 0.221239</td>\n",
        "      <td> 0.168142</td>\n",
        "      <td> 0.168142</td>\n",
        "      <td> 0.132743</td>\n",
        "      <td> 0.132743</td>\n",
        "    </tr>\n",
        "    <tr>\n",
        "      <th>9 </th>\n",
        "      <td> 0.115044</td>\n",
        "      <td> 0.221239</td>\n",
        "      <td> 0.168142</td>\n",
        "      <td> 0.168142</td>\n",
        "      <td> 0.141593</td>\n",
        "      <td> 0.141593</td>\n",
        "    </tr>\n",
        "    <tr>\n",
        "      <th>10</th>\n",
        "      <td> 0.106195</td>\n",
        "      <td> 0.221239</td>\n",
        "      <td> 0.168142</td>\n",
        "      <td> 0.168142</td>\n",
        "      <td> 0.132743</td>\n",
        "      <td> 0.132743</td>\n",
        "    </tr>\n",
        "    <tr>\n",
        "      <th>11</th>\n",
        "      <td> 0.097345</td>\n",
        "      <td> 0.221239</td>\n",
        "      <td> 0.168142</td>\n",
        "      <td> 0.168142</td>\n",
        "      <td> 0.132743</td>\n",
        "      <td> 0.132743</td>\n",
        "    </tr>\n",
        "    <tr>\n",
        "      <th>12</th>\n",
        "      <td> 0.079646</td>\n",
        "      <td> 0.221239</td>\n",
        "      <td> 0.168142</td>\n",
        "      <td> 0.168142</td>\n",
        "      <td> 0.132743</td>\n",
        "      <td> 0.141593</td>\n",
        "    </tr>\n",
        "    <tr>\n",
        "      <th>13</th>\n",
        "      <td> 0.079646</td>\n",
        "      <td> 0.221239</td>\n",
        "      <td> 0.168142</td>\n",
        "      <td> 0.168142</td>\n",
        "      <td> 0.141593</td>\n",
        "      <td> 0.141593</td>\n",
        "    </tr>\n",
        "    <tr>\n",
        "      <th>14</th>\n",
        "      <td> 0.070796</td>\n",
        "      <td> 0.221239</td>\n",
        "      <td> 0.168142</td>\n",
        "      <td> 0.168142</td>\n",
        "      <td> 0.150442</td>\n",
        "      <td> 0.150442</td>\n",
        "    </tr>\n",
        "  </tbody>\n",
        "</table>\n",
        "</div>"
       ],
       "metadata": {},
       "output_type": "pyout",
       "prompt_number": 31,
       "text": [
        "    BrayCurtis  Chebyshev  Correlation    Cosine  Euclidean  Manhattan\n",
        "0     0.265487   0.274336     0.274336  0.292035   0.265487   0.274336\n",
        "1     0.185841   0.221239     0.212389  0.212389   0.185841   0.176991\n",
        "2     0.221239   0.221239     0.230088  0.230088   0.176991   0.168142\n",
        "3     0.159292   0.221239     0.203540  0.203540   0.123894   0.115044\n",
        "4     0.132743   0.221239     0.185841  0.185841   0.115044   0.115044\n",
        "5     0.123894   0.221239     0.185841  0.185841   0.123894   0.132743\n",
        "6     0.123894   0.221239     0.176991  0.176991   0.141593   0.132743\n",
        "7     0.123894   0.221239     0.176991  0.176991   0.132743   0.123894\n",
        "8     0.097345   0.221239     0.168142  0.168142   0.132743   0.132743\n",
        "9     0.115044   0.221239     0.168142  0.168142   0.141593   0.141593\n",
        "10    0.106195   0.221239     0.168142  0.168142   0.132743   0.132743\n",
        "11    0.097345   0.221239     0.168142  0.168142   0.132743   0.132743\n",
        "12    0.079646   0.221239     0.168142  0.168142   0.132743   0.141593\n",
        "13    0.079646   0.221239     0.168142  0.168142   0.141593   0.141593\n",
        "14    0.070796   0.221239     0.168142  0.168142   0.150442   0.150442"
       ]
      }
     ],
     "prompt_number": 31
    },
    {
     "cell_type": "code",
     "collapsed": false,
     "input": [
      "scores_PCA_easy_pd = pd.DataFrame(scores_PCA_easy,index = number_features)\n",
      "scores_PCA_easy_pd.plot(title = 'Importance de la PCA (mode facile)')\n",
      "plt.savefig('Importance de la PCA (mode facile).png')"
     ],
     "language": "python",
     "metadata": {},
     "outputs": [
      {
       "metadata": {},
       "output_type": "display_data",
       "png": "[encoded data removed]",
       "text": [
        "<matplotlib.figure.Figure at 0x7fbc480226d0>"
       ]
      }
     ],
     "prompt_number": 32
    }
   ],
   "metadata": {}
  }
 ]
}