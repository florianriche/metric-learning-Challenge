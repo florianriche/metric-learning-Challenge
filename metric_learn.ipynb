{
 "metadata": {
  "name": "",
  "signature": "sha256:565d350f7a31ca183b76c08c1011124ed38418093f1ddd283a0f9bf28efe925b"
 },
 "nbformat": 3,
 "nbformat_minor": 0,
 "worksheets": [
  {
   "cells": [
    {
     "cell_type": "code",
     "collapsed": false,
     "input": [
      "import numpy as np\n",
      "\n",
      "def distances_pairs(X,pairs,dist_func, batch_size=10000):\n",
      "    n_pairs = pairs.shape[0]\n",
      "    dist = np.ones((n_pairs,), dtype=np.dtype(\"float32\"))\n",
      "    for a in range(0, n_pairs, batch_size):\n",
      "        b = min(a + batch_size, n_pairs)\n",
      "        dist[a:b] =  [dist_func(X[pairs[i,0],:],X[pairs[i,1],:]) for i in range(a,b)]\n",
      "    return dist\n",
      "    "
     ],
     "language": "python",
     "metadata": {},
     "outputs": [],
     "prompt_number": 2
    }
   ],
   "metadata": {}
  }
 ]
}